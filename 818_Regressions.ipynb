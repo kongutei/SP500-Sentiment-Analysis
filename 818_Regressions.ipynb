{
 "cells": [
  {
   "cell_type": "markdown",
   "metadata": {},
   "source": [
    "## 构建Fama-French三因子时间序列"
   ]
  },
  {
   "cell_type": "markdown",
   "metadata": {},
   "source": [
    "***"
   ]
  },
  {
   "cell_type": "markdown",
   "metadata": {},
   "source": [
    "### 获取S&P 500企业股票信息"
   ]
  },
  {
   "cell_type": "markdown",
   "metadata": {},
   "source": [
    "Source: https://stackoverflow.com/a/58890872"
   ]
  },
  {
   "cell_type": "code",
   "execution_count": 21,
   "metadata": {},
   "outputs": [
    {
     "name": "stdout",
     "output_type": "stream",
     "text": [
      "[*********************100%***********************]  503 of 503 completed\n",
      "\n",
      "4 Failed downloads:\n",
      "- OGN: Data doesn't exist for startDate = 1586620800, endDate = 1594483200\n",
      "- BF.B: No data found for this date range, symbol may be delisted\n",
      "- BRK.B: No data found, symbol may be delisted\n",
      "- CEG: Data doesn't exist for startDate = 1586620800, endDate = 1594483200\n"
     ]
    }
   ],
   "source": [
    "import bs4 as bs\n",
    "import requests\n",
    "import yfinance as yf\n",
    "import datetime\n",
    "import pandas as pd\n",
    "\n",
    "# 爬取企业的tickers\n",
    "resp = requests.get('http://en.wikipedia.org/wiki/List_of_S%26P_500_companies')\n",
    "soup = bs.BeautifulSoup(resp.text, 'lxml')\n",
    "table = soup.find('table', {'class': 'wikitable sortable'})\n",
    "tickers = []\n",
    "for row in table.findAll('tr')[1:]:\n",
    "    ticker = row.findAll('td')[0].text\n",
    "    tickers.append(ticker)\n",
    "tickers = [s.replace('\\n', '') for s in tickers]\n",
    "\n",
    "# 输入目标时间段\n",
    "start = datetime.datetime(2020,4,12)\n",
    "end = datetime.datetime(2020,7,12)\n",
    "\n",
    "# 查看数据抓取完整性\n",
    "data = yf.download(tickers, start=start, end=end)"
   ]
  },
  {
   "cell_type": "markdown",
   "metadata": {},
   "source": [
    "从结果看出，有四个tickers抓取不到，所以tickers需要更新，去除这四个冗余的。"
   ]
  },
  {
   "cell_type": "code",
   "execution_count": 22,
   "metadata": {},
   "outputs": [
    {
     "name": "stdout",
     "output_type": "stream",
     "text": [
      "过滤后的ticker数为： 499\n"
     ]
    }
   ],
   "source": [
    "fail_list = ['CEG', 'OGN','BF.B','BRK.B']\n",
    "tickers = [t for t in tickers if t not in fail_list]\n",
    "print('过滤后的ticker数为：',len(tickers))"
   ]
  },
  {
   "cell_type": "markdown",
   "metadata": {},
   "source": [
    "### 获取S&P 500企业的账面市值比"
   ]
  },
  {
   "cell_type": "markdown",
   "metadata": {},
   "source": [
    "Source: https://medium.com/analytics-vidhya/how-to-calculate-price-book-ratio-with-python-python-for-finance-725286f11e"
   ]
  },
  {
   "cell_type": "code",
   "execution_count": null,
   "metadata": {},
   "outputs": [],
   "source": [
    "# 定义一个抓取BS发布日期的函数\n",
    "def getdate(stock):\n",
    "    BS = requests.get(f\"https://financialmodelingprep.com/api/v3/financials/balance-sheet-statement/{stock}?period=quarter&apikey=388edbbeae95c0229c3018613d6e0b80\")\n",
    "    BS = BS.json()\n",
    "    BS_date = str(BS['financials'][8]['date'])\n",
    "    return(BS_date)\n",
    "\n",
    "date = getdate('AAPL')\n",
    "print('BS发布日期为：', date)"
   ]
  },
  {
   "cell_type": "code",
   "execution_count": null,
   "metadata": {},
   "outputs": [],
   "source": [
    "from tqdm import tqdm\n",
    "import time\n",
    "\n",
    "def getBM(stock):\n",
    "    BS = requests.get(f\"https://financialmodelingprep.com/api/v3/financials/balance-sheet-statement/{stock}?period=quarter&apikey=388edbbeae95c0229c3018613d6e0b80\")\n",
    "    BS = BS.json()\n",
    "\n",
    "    book_value_equity_2020Q1 = float(BS['financials'][8]['Total shareholders equity'])  \n",
    "    \n",
    "    company_info = requests.get(f\"https://financialmodelingprep.com/api/v3/company/profile/{stock}?period=quarter&apikey=388edbbeae95c0229c3018613d6e0b80\")\n",
    "    company_info = company_info.json()\n",
    "    market_cap =  float(company_info['profile']['mktCap'])\n",
    "    book_to_market = book_value_equity_2020Q1 / market_cap\n",
    "    return (book_to_market)\n",
    "    \n",
    "BM_list = []\n",
    "for t in tqdm(tickers):\n",
    "    try:\n",
    "        result_t = getBM(t)\n",
    "    except:\n",
    "        result_t = 0\n",
    "    BM_list.append(result_t)\n",
    "    time.sleep(0.1)\n",
    "print('抓取成功！')"
   ]
  },
  {
   "cell_type": "code",
   "execution_count": null,
   "metadata": {
    "scrolled": true
   },
   "outputs": [],
   "source": [
    "# 合并两个lists为一个dataframe\n",
    "BM_ratio = pd.DataFrame({'Ticker': tickers, 'BM Ratio': BM_list})\n",
    "\n",
    "# 把ticker设为index\n",
    "BM_ratio.set_index('Ticker', inplace=True)\n",
    "\n",
    "# 按照字母顺序排序index\n",
    "BM_ratio.sort_index(inplace=True)\n",
    "\n",
    "BM_ratio.head()"
   ]
  },
  {
   "cell_type": "code",
   "execution_count": null,
   "metadata": {},
   "outputs": [],
   "source": [
    "# 看看哪些公司提取不到信息\n",
    "zero_BM = BM_ratio.loc[BM_ratio['BM Ratio'] == 0]\n",
    "zero_BM.head()"
   ]
  },
  {
   "cell_type": "code",
   "execution_count": null,
   "metadata": {},
   "outputs": [],
   "source": [
    "# 为这些提取不到信息的tickers创建一个list\n",
    "zero_list = zero_BM.index.values.tolist()\n",
    "print(zero_list)"
   ]
  },
  {
   "cell_type": "code",
   "execution_count": null,
   "metadata": {},
   "outputs": [],
   "source": [
    "# 过滤冗余tickers\n",
    "tickers = [t for t in tickers if t not in zero_list]\n",
    "print('过滤后的ticker数为：',len(tickers))"
   ]
  },
  {
   "cell_type": "code",
   "execution_count": null,
   "metadata": {},
   "outputs": [],
   "source": [
    "# 筛选出非零的账面市值比\n",
    "BM_ratio.drop(zero_list, axis=0, inplace=True)\n",
    "BM_ratio.head()"
   ]
  },
  {
   "cell_type": "code",
   "execution_count": null,
   "metadata": {},
   "outputs": [],
   "source": [
    "# 不想再爬一遍，存起来！\n",
    "BM_ratio.to_csv('BM Ratio.csv')"
   ]
  },
  {
   "cell_type": "markdown",
   "metadata": {},
   "source": [
    "### 获取S&P 500企业在2020年4月9日的市值"
   ]
  },
  {
   "cell_type": "code",
   "execution_count": null,
   "metadata": {},
   "outputs": [],
   "source": [
    "start = datetime.datetime(2020,4,10)\n",
    "end = datetime.datetime(2020,4,12)\n",
    "data_09042020 = yf.download(tickers, start=start, end=end)\n",
    "print(data_09042020.head())"
   ]
  },
  {
   "cell_type": "code",
   "execution_count": null,
   "metadata": {},
   "outputs": [],
   "source": [
    "# 提取价格并交换横纵坐标\n",
    "close_stock = data_09042020['Adj Close']\n",
    "close_stock.index = ['Adj Close']\n",
    "close_stock = close_stock.T\n",
    "close_stock.head()\n",
    "\n",
    "# 提取交易量并交换横纵坐标\n",
    "volume_stock = data_09042020['Volume']\n",
    "volume_stock.index = ['Volume']\n",
    "volume_stock = volume_stock.T\n",
    "volume_stock.head()\n",
    "\n",
    "# 合并上述两者并相乘得出市值\n",
    "mkt_cap = pd.concat([close_stock, volume_stock], axis=1)\n",
    "mkt_cap['Mkt Cap'] = mkt_cap['Adj Close'] * mkt_cap['Volume']\n",
    "mkt_cap.index.names = ['Ticker']\n",
    "mkt_cap.head()"
   ]
  },
  {
   "cell_type": "code",
   "execution_count": null,
   "metadata": {},
   "outputs": [],
   "source": [
    "mkt_cap.drop(columns=['Adj Close', 'Volume'], inplace = True)\n",
    "mkt_cap.head()"
   ]
  },
  {
   "cell_type": "code",
   "execution_count": null,
   "metadata": {},
   "outputs": [],
   "source": [
    "mkt_cap.to_csv('Mkt Cap.csv')"
   ]
  },
  {
   "cell_type": "markdown",
   "metadata": {},
   "source": [
    "### 切分投资组合"
   ]
  },
  {
   "cell_type": "markdown",
   "metadata": {},
   "source": [
    "以下投资组合划分完全按照Fama和French的研究方法来进行。先按照市值的中位数将公司分为小规模和大规模组。"
   ]
  },
  {
   "cell_type": "code",
   "execution_count": 23,
   "metadata": {},
   "outputs": [],
   "source": [
    "mkt_cap = pd.read_csv('Mkt Cap.csv')"
   ]
  },
  {
   "cell_type": "code",
   "execution_count": 24,
   "metadata": {},
   "outputs": [],
   "source": [
    "mkt_cap[\"Q_MC\"] = pd.qcut(mkt_cap[\"Mkt Cap\"], \n",
    "                               q=[0, 0.5, 1], \n",
    "                               labels=[\"S\", \"B\"])\n",
    "\n",
    "mkt_cap = mkt_cap.sort_values(\"Ticker\")\n",
    "\n",
    "S_MC = mkt_cap.groupby(mkt_cap.Q_MC).get_group(\"S\")\n",
    "S_MC = S_MC.drop(['Mkt Cap'], axis=1)\n",
    "\n",
    "B_MC = mkt_cap.groupby(mkt_cap.Q_MC).get_group(\"B\")\n",
    "B_MC = B_MC.drop(['Mkt Cap'], axis=1)"
   ]
  },
  {
   "cell_type": "markdown",
   "metadata": {},
   "source": [
    "按照市值中位数大小切分完毕。第二步，再依据公司的账面市值比分别按30%、40%和30%的比例分为三组。"
   ]
  },
  {
   "cell_type": "code",
   "execution_count": 25,
   "metadata": {},
   "outputs": [],
   "source": [
    "BM_ratio = pd.read_csv('BM Ratio.csv')"
   ]
  },
  {
   "cell_type": "code",
   "execution_count": 26,
   "metadata": {},
   "outputs": [],
   "source": [
    "BM_ratio[\"Q_BM\"] = pd.qcut(BM_ratio[\"BM Ratio\"], \n",
    "                               q=[0, 0.3, 0.7, 1], \n",
    "                               labels=[\"L\", \"M\", \"H\"])\n",
    "\n",
    "BM_ratio = BM_ratio.sort_values(\"Ticker\")\n",
    "\n",
    "L_BM = BM_ratio.groupby(BM_ratio.Q_BM).get_group(\"L\")\n",
    "L_BM = L_BM.drop(['BM Ratio'], axis=1)\n",
    "\n",
    "M_BM = BM_ratio.groupby(BM_ratio.Q_BM).get_group(\"M\")\n",
    "M_BM = M_BM.drop(['BM Ratio'], axis=1)\n",
    "\n",
    "H_BM = BM_ratio.groupby(BM_ratio.Q_BM).get_group(\"H\")\n",
    "H_BM = H_BM.drop(['BM Ratio'], axis=1)"
   ]
  },
  {
   "cell_type": "markdown",
   "metadata": {},
   "source": [
    "交叉得出6组投资组合。"
   ]
  },
  {
   "cell_type": "code",
   "execution_count": 27,
   "metadata": {},
   "outputs": [],
   "source": [
    "SL = pd.merge(S_MC, L_BM, how='inner', on=['Ticker'])\n",
    "SM = pd.merge(S_MC, M_BM, how='inner', on=['Ticker'])\n",
    "SH = pd.merge(S_MC, H_BM, how='inner', on=['Ticker'])\n",
    "BL = pd.merge(B_MC, L_BM, how='inner', on=['Ticker'])\n",
    "BM = pd.merge(B_MC, M_BM, how='inner', on=['Ticker'])\n",
    "BH = pd.merge(B_MC, H_BM, how='inner', on=['Ticker'])"
   ]
  },
  {
   "cell_type": "markdown",
   "metadata": {},
   "source": [
    "### 投资组合收益的描述性统计"
   ]
  },
  {
   "cell_type": "markdown",
   "metadata": {},
   "source": [
    "分别计算出六个投资组合SL、SM、SH、BL、BM、BH的平均收益率和标准差。"
   ]
  },
  {
   "cell_type": "markdown",
   "metadata": {},
   "source": [
    "<mark>SL<mark>"
   ]
  },
  {
   "cell_type": "code",
   "execution_count": 28,
   "metadata": {},
   "outputs": [
    {
     "name": "stdout",
     "output_type": "stream",
     "text": [
      "[*********************100%***********************]  62 of 62 completed\n",
      "SL的平均收益率为： 0.0036176407622585793\n",
      "SL的标准差为： 0.016986956407962626\n"
     ]
    }
   ],
   "source": [
    "# 抓取SL的tickers的股票信息\n",
    "SL_list = SL['Ticker'].tolist()\n",
    "start = datetime.datetime(2020,4,12)\n",
    "end = datetime.datetime(2020,7,12)\n",
    "data_SL = yf.download(SL_list, start=start, end=end)\n",
    "\n",
    "# 获取SL公司报酬率\n",
    "returns_SL = data_SL['Adj Close'].pct_change()\n",
    "returns_SL.dropna(inplace = True)\n",
    "\n",
    "# 求每日报酬率均值\n",
    "returns_SL['mean_SL'] = returns_SL.mean(axis=1)\n",
    "avgret_SL = returns_SL[['mean_SL']]\n",
    "print('SL的平均收益率为：', avgret_SL['mean_SL'].mean())\n",
    "print('SL的标准差为：', avgret_SL['mean_SL'].std())"
   ]
  },
  {
   "cell_type": "markdown",
   "metadata": {},
   "source": [
    "<mark>SM<mark>"
   ]
  },
  {
   "cell_type": "code",
   "execution_count": 29,
   "metadata": {},
   "outputs": [
    {
     "name": "stdout",
     "output_type": "stream",
     "text": [
      "[*********************100%***********************]  108 of 108 completed\n",
      "SM的平均收益率为： 0.0026874431454703123\n",
      "SM的标准差为： 0.022191273662066992\n"
     ]
    }
   ],
   "source": [
    "# 抓取SM的tickers的股票信息\n",
    "SM_list = SM['Ticker'].tolist()\n",
    "start = datetime.datetime(2020,4,12)\n",
    "end = datetime.datetime(2020,7,12)\n",
    "data_SM = yf.download(SM_list, start=start, end=end)\n",
    "\n",
    "# 获取SM公司报酬率\n",
    "returns_SM = data_SM['Adj Close'].pct_change()\n",
    "returns_SM.dropna(inplace = True)\n",
    "\n",
    "# 求每日报酬率均值\n",
    "returns_SM['mean_SM'] = returns_SM.mean(axis=1)\n",
    "avgret_SM = returns_SM[['mean_SM']]\n",
    "print('SM的平均收益率为：', avgret_SM['mean_SM'].mean())\n",
    "print('SM的标准差为：', avgret_SM['mean_SM'].std())"
   ]
  },
  {
   "cell_type": "markdown",
   "metadata": {},
   "source": [
    "<mark>SH<mark>"
   ]
  },
  {
   "cell_type": "code",
   "execution_count": 30,
   "metadata": {},
   "outputs": [
    {
     "name": "stdout",
     "output_type": "stream",
     "text": [
      "[*********************100%***********************]  75 of 75 completed\n",
      "SH的平均收益率为： 0.001446459496427507\n",
      "SH的标准差为： 0.02897352754617191\n"
     ]
    }
   ],
   "source": [
    "# 抓取SH的tickers的股票信息\n",
    "SH_list = SH['Ticker'].tolist()\n",
    "start = datetime.datetime(2020,4,12)\n",
    "end = datetime.datetime(2020,7,12)\n",
    "data_SH = yf.download(SH_list, start=start, end=end)\n",
    "\n",
    "# 获取SH公司报酬率\n",
    "returns_SH = data_SH['Adj Close'].pct_change()\n",
    "returns_SH.dropna(inplace = True)\n",
    "\n",
    "# 求每日报酬率均值\n",
    "returns_SH['mean_SH'] = returns_SH.mean(axis=1)\n",
    "avgret_SH = returns_SH[['mean_SH']]\n",
    "print('SH的平均收益率为：', avgret_SH['mean_SH'].mean())\n",
    "print('SH的标准差为：', avgret_SH['mean_SH'].std())"
   ]
  },
  {
   "cell_type": "markdown",
   "metadata": {},
   "source": [
    "<mark>BL<mark>"
   ]
  },
  {
   "cell_type": "code",
   "execution_count": 31,
   "metadata": {},
   "outputs": [
    {
     "name": "stdout",
     "output_type": "stream",
     "text": [
      "[*********************100%***********************]  85 of 85 completed\n",
      "BL的平均收益率为： 0.0034341556619794105\n",
      "BL的标准差为： 0.017609068902497957\n"
     ]
    }
   ],
   "source": [
    "# 抓取BL的tickers的股票信息\n",
    "BL_list = BL['Ticker'].tolist()\n",
    "start = datetime.datetime(2020,4,12)\n",
    "end = datetime.datetime(2020,7,12)\n",
    "data_BL = yf.download(BL_list, start=start, end=end)\n",
    "\n",
    "# 获取BL公司报酬率\n",
    "returns_BL = data_BL['Adj Close'].pct_change()\n",
    "returns_BL.dropna(inplace = True)\n",
    "\n",
    "# 求每日报酬率均值\n",
    "returns_BL['mean_BL'] = returns_BL.mean(axis=1)\n",
    "avgret_BL = returns_BL[['mean_BL']]\n",
    "print('BL的平均收益率为：', avgret_BL['mean_BL'].mean())\n",
    "print('BL的标准差为：', avgret_BL['mean_BL'].std())"
   ]
  },
  {
   "cell_type": "markdown",
   "metadata": {},
   "source": [
    "<mark>BM<mark>"
   ]
  },
  {
   "cell_type": "code",
   "execution_count": 32,
   "metadata": {},
   "outputs": [
    {
     "name": "stdout",
     "output_type": "stream",
     "text": [
      "[*********************100%***********************]  88 of 88 completed\n",
      "BM的平均收益率为： 0.002597788168375698\n",
      "BM的标准差为： 0.01906763351508157\n"
     ]
    }
   ],
   "source": [
    "# 抓取BM的tickers的股票信息\n",
    "BM_list = BM['Ticker'].tolist()\n",
    "start = datetime.datetime(2020,4,12)\n",
    "end = datetime.datetime(2020,7,12)\n",
    "data_BM = yf.download(BM_list, start=start, end=end)\n",
    "\n",
    "# 获取BM公司报酬率\n",
    "returns_BM = data_BM['Adj Close'].pct_change()\n",
    "returns_BM.dropna(inplace = True)\n",
    "\n",
    "# 求每日报酬率均值\n",
    "returns_BM['mean_BM'] = returns_BM.mean(axis=1)\n",
    "avgret_BM = returns_BM[['mean_BM']]\n",
    "print('BM的平均收益率为：', avgret_BM['mean_BM'].mean())\n",
    "print('BM的标准差为：', avgret_BM['mean_BM'].std())"
   ]
  },
  {
   "cell_type": "markdown",
   "metadata": {},
   "source": [
    "<mark>BH<mark>"
   ]
  },
  {
   "cell_type": "code",
   "execution_count": 33,
   "metadata": {},
   "outputs": [
    {
     "name": "stdout",
     "output_type": "stream",
     "text": [
      "[*********************100%***********************]  72 of 72 completed\n",
      "BH的平均收益率为： 0.0020682938538895547\n",
      "BH的标准差为： 0.029358476092995505\n"
     ]
    }
   ],
   "source": [
    "# 抓取BH的tickers的股票信息\n",
    "BH_list = BH['Ticker'].tolist()\n",
    "start = datetime.datetime(2020,4,12)\n",
    "end = datetime.datetime(2020,7,12)\n",
    "data_BH = yf.download(BH_list, start=start, end=end)\n",
    "\n",
    "# 获取BH公司报酬率\n",
    "returns_BH = data_BH['Adj Close'].pct_change()\n",
    "returns_BH.dropna(inplace = True)\n",
    "\n",
    "# 求每日报酬率均值\n",
    "returns_BH['mean_BH'] = returns_BH.mean(axis=1)\n",
    "avgret_BH = returns_BH[['mean_BH']]\n",
    "print('BH的平均收益率为：', avgret_BH['mean_BH'].mean())\n",
    "print('BH的标准差为：', avgret_BH['mean_BH'].std())"
   ]
  },
  {
   "cell_type": "markdown",
   "metadata": {},
   "source": [
    "### 获取无风险利率"
   ]
  },
  {
   "cell_type": "markdown",
   "metadata": {},
   "source": [
    "无风险利率取2020年3月31日的一年期T-Bill月度利率，0.32%。此处需要转换为每日利率，如下公式。  \n",
    "Source：https://ycharts.com/indicators/1_year_treasury_bill_rate_monthly"
   ]
  },
  {
   "cell_type": "code",
   "execution_count": 34,
   "metadata": {},
   "outputs": [
    {
     "name": "stdout",
     "output_type": "stream",
     "text": [
      "无风险利率为： 0.00010650203415640824\n"
     ]
    }
   ],
   "source": [
    "rf_monthly = 0.0032\n",
    "rf_daily = (1 + rf_monthly)**(1/30) - 1 \n",
    "print('无风险利率为：', rf_daily)"
   ]
  },
  {
   "cell_type": "markdown",
   "metadata": {},
   "source": [
    "### 获取市场指数和每日回报"
   ]
  },
  {
   "cell_type": "markdown",
   "metadata": {},
   "source": [
    "Source: https://stackoverflow.com/q/71365828"
   ]
  },
  {
   "cell_type": "code",
   "execution_count": 35,
   "metadata": {},
   "outputs": [
    {
     "data": {
      "text/html": [
       "<div>\n",
       "<style scoped>\n",
       "    .dataframe tbody tr th:only-of-type {\n",
       "        vertical-align: middle;\n",
       "    }\n",
       "\n",
       "    .dataframe tbody tr th {\n",
       "        vertical-align: top;\n",
       "    }\n",
       "\n",
       "    .dataframe thead th {\n",
       "        text-align: right;\n",
       "    }\n",
       "</style>\n",
       "<table border=\"1\" class=\"dataframe\">\n",
       "  <thead>\n",
       "    <tr style=\"text-align: right;\">\n",
       "      <th></th>\n",
       "      <th>Daily Return</th>\n",
       "    </tr>\n",
       "    <tr>\n",
       "      <th>Date</th>\n",
       "      <th></th>\n",
       "    </tr>\n",
       "  </thead>\n",
       "  <tbody>\n",
       "    <tr>\n",
       "      <th>2020-04-14</th>\n",
       "      <td>0.030573</td>\n",
       "    </tr>\n",
       "    <tr>\n",
       "      <th>2020-04-15</th>\n",
       "      <td>-0.022030</td>\n",
       "    </tr>\n",
       "    <tr>\n",
       "      <th>2020-04-16</th>\n",
       "      <td>0.005817</td>\n",
       "    </tr>\n",
       "    <tr>\n",
       "      <th>2020-04-17</th>\n",
       "      <td>0.026794</td>\n",
       "    </tr>\n",
       "    <tr>\n",
       "      <th>2020-04-20</th>\n",
       "      <td>-0.017881</td>\n",
       "    </tr>\n",
       "  </tbody>\n",
       "</table>\n",
       "</div>"
      ],
      "text/plain": [
       "            Daily Return\n",
       "Date                    \n",
       "2020-04-14      0.030573\n",
       "2020-04-15     -0.022030\n",
       "2020-04-16      0.005817\n",
       "2020-04-17      0.026794\n",
       "2020-04-20     -0.017881"
      ]
     },
     "execution_count": 35,
     "metadata": {},
     "output_type": "execute_result"
    }
   ],
   "source": [
    "import pandas_datareader.data as web\n",
    "\n",
    "SP500 = web.DataReader('SP500', 'fred', '2020-04-12', '2020-07-12')\n",
    "\n",
    "# 计算每日回报率\n",
    "SP500[\"Daily Return\"] = SP500[\"SP500\"].pct_change()\n",
    "SP500.dropna(inplace=True)\n",
    "SP500.rename(columns={\"SP500\": \"S&P 500\"}, inplace = True)\n",
    "SP500.index = SP500.index.rename('Date')\n",
    "SP500 = SP500.drop('S&P 500', axis=1)\n",
    "SP500.head()"
   ]
  },
  {
   "cell_type": "markdown",
   "metadata": {},
   "source": [
    "### 构建市场因子"
   ]
  },
  {
   "cell_type": "markdown",
   "metadata": {},
   "source": [
    "市场因子，即用每日指数收益率减去无风险利率。"
   ]
  },
  {
   "cell_type": "code",
   "execution_count": 36,
   "metadata": {},
   "outputs": [
    {
     "data": {
      "text/html": [
       "<div>\n",
       "<style scoped>\n",
       "    .dataframe tbody tr th:only-of-type {\n",
       "        vertical-align: middle;\n",
       "    }\n",
       "\n",
       "    .dataframe tbody tr th {\n",
       "        vertical-align: top;\n",
       "    }\n",
       "\n",
       "    .dataframe thead th {\n",
       "        text-align: right;\n",
       "    }\n",
       "</style>\n",
       "<table border=\"1\" class=\"dataframe\">\n",
       "  <thead>\n",
       "    <tr style=\"text-align: right;\">\n",
       "      <th></th>\n",
       "      <th>mktrf</th>\n",
       "    </tr>\n",
       "    <tr>\n",
       "      <th>Date</th>\n",
       "      <th></th>\n",
       "    </tr>\n",
       "  </thead>\n",
       "  <tbody>\n",
       "    <tr>\n",
       "      <th>2020-04-14</th>\n",
       "      <td>0.030466</td>\n",
       "    </tr>\n",
       "    <tr>\n",
       "      <th>2020-04-15</th>\n",
       "      <td>-0.022137</td>\n",
       "    </tr>\n",
       "    <tr>\n",
       "      <th>2020-04-16</th>\n",
       "      <td>0.005710</td>\n",
       "    </tr>\n",
       "    <tr>\n",
       "      <th>2020-04-17</th>\n",
       "      <td>0.026687</td>\n",
       "    </tr>\n",
       "    <tr>\n",
       "      <th>2020-04-20</th>\n",
       "      <td>-0.017987</td>\n",
       "    </tr>\n",
       "  </tbody>\n",
       "</table>\n",
       "</div>"
      ],
      "text/plain": [
       "               mktrf\n",
       "Date                \n",
       "2020-04-14  0.030466\n",
       "2020-04-15 -0.022137\n",
       "2020-04-16  0.005710\n",
       "2020-04-17  0.026687\n",
       "2020-04-20 -0.017987"
      ]
     },
     "execution_count": 36,
     "metadata": {},
     "output_type": "execute_result"
    }
   ],
   "source": [
    "SP500['mktrf'] = SP500['Daily Return']-rf_daily\n",
    "mktrf = SP500.drop('Daily Return', axis=1)\n",
    "mktrf.head()"
   ]
  },
  {
   "cell_type": "markdown",
   "metadata": {},
   "source": [
    "### 构建公司规模因子SMB"
   ]
  },
  {
   "cell_type": "markdown",
   "metadata": {},
   "source": [
    "<p>按照以下公式计算：$SMB = {{SL+SM+SH} \\over 3}-{{BL+BM+BH} \\over 3}$，这些字母表示的是各个投资组合内企业的平均报酬率。<p>\n",
    "<p>先把大市值和小市值两组公司的tickers导出为两个lists，然后分别从yfinance抓取价格后求收益率，再分别求收益率的均值。<p>"
   ]
  },
  {
   "cell_type": "code",
   "execution_count": 37,
   "metadata": {},
   "outputs": [
    {
     "name": "stdout",
     "output_type": "stream",
     "text": [
      "['A', 'AAP', 'ABC', 'ABMD', 'ADM', 'AEE', 'AES', 'AIZ', 'AJG', 'AKAM', 'ALB', 'ALK', 'ALLE', 'AMCR', 'AME', 'AMP', 'ANSS', 'AOS', 'APH', 'ARE', 'ATO', 'AVY', 'AWK', 'BBY', 'BEN', 'BIO', 'BKR', 'BR', 'BRO', 'BWA', 'BXP', 'CAG', 'CAH', 'CBOE', 'CBRE', 'CDAY', 'CDNS', 'CDW', 'CE', 'CF', 'CFG', 'CHD', 'CHRW', 'CINF', 'CMA', 'CMI', 'CMS', 'CNP', 'COO', 'CPB', 'CPRT', 'CPT', 'CRL', 'CTAS', 'CTLT', 'CTRA', 'CTVA', 'CZR', 'DFS', 'DGX', 'DISH', 'DLTR', 'DOV', 'DPZ', 'DRE', 'DVA', 'DVN', 'DXC', 'ED', 'EFX', 'EIX', 'EMN', 'EMR', 'EPAM', 'ES', 'ESS', 'ETR', 'EVRG', 'EXPD', 'EXR', 'FAST', 'FBHS', 'FDS', 'FFIV', 'FITB', 'FLT', 'FMC', 'FOX', 'FOXA', 'FRC', 'FRT', 'FTV', 'GL', 'GLW', 'GNRC', 'GPC', 'GRMN', 'GWW', 'HAS', 'HBAN', 'HES', 'HIG', 'HII', 'HOLX', 'HPE', 'HRL', 'HSIC', 'HST', 'HSY', 'HWM', 'IDXX', 'IEX', 'IFF', 'INCY', 'IP', 'IPG', 'IQV', 'IR', 'IRM', 'IT', 'IVZ', 'J', 'JBHT', 'JKHY', 'JNPR', 'K', 'KDP', 'KEY', 'KEYS', 'KIM', 'KLAC', 'KMX', 'L', 'LDOS', 'LKQ', 'LNC', 'LNT', 'LW', 'LYB', 'MAA', 'MAS', 'MHK', 'MKC', 'MKTX', 'MLM', 'MNST', 'MOH', 'MOS', 'MPWR', 'MRNA', 'MSI', 'MTB', 'MTCH', 'MTD', 'NDAQ', 'NDSN', 'NI', 'NLOK', 'NLSN', 'NRG', 'NTAP', 'NTRS', 'NUE', 'NVR', 'NWL', 'NWS', 'NWSA', 'ODFL', 'OMC', 'ON', 'PAYX', 'PCAR', 'PEAK', 'PEG', 'PENN', 'PFG', 'PH', 'PHM', 'PKG', 'PKI', 'PNR', 'PNW', 'POOL', 'PPG', 'PPL', 'PRU', 'PTC', 'PVH', 'PWR', 'QRVO', 'RE', 'REG', 'RF', 'RHI', 'RJF', 'RL', 'RMD', 'ROK', 'ROL', 'ROP', 'RSG', 'SBNY', 'SEDG', 'SEE', 'SIVB', 'SJM', 'SNA', 'SNPS', 'STE', 'STT', 'STX', 'TAP', 'TDY', 'TECH', 'TEL', 'TER', 'TFX', 'TPR', 'TRMB', 'TROW', 'TRV', 'TSCO', 'TSN', 'TT', 'TXT', 'TYL', 'UDR', 'UHS', 'VFC', 'VICI', 'VNO', 'VRSK', 'VRSN', 'WAB', 'WAT', 'WEC', 'WHR', 'WRB', 'WRK', 'WST', 'WY', 'XRAY', 'XYL', 'ZBRA', 'ZION']\n"
     ]
    }
   ],
   "source": [
    "# 将ticker设为index\n",
    "S_MC.set_index('Ticker', inplace = True)\n",
    "\n",
    "SMC_list = S_MC.index.values.tolist()\n",
    "print(SMC_list)"
   ]
  },
  {
   "cell_type": "code",
   "execution_count": 38,
   "metadata": {},
   "outputs": [
    {
     "name": "stdout",
     "output_type": "stream",
     "text": [
      "['AAL', 'AAPL', 'ABBV', 'ABT', 'ACN', 'ADBE', 'ADI', 'ADP', 'ADSK', 'AEP', 'AFL', 'AIG', 'ALGN', 'ALL', 'AMAT', 'AMD', 'AMT', 'AMZN', 'ANET', 'AON', 'APA', 'APD', 'APTV', 'ATVI', 'AVB', 'AVGO', 'AXP', 'AZO', 'BA', 'BAC', 'BAX', 'BDX', 'BIIB', 'BK', 'BKNG', 'BLK', 'BMY', 'BSX', 'C', 'CARR', 'CAT', 'CB', 'CCI', 'CCL', 'CHTR', 'CI', 'CL', 'CLX', 'CMCSA', 'CME', 'CMG', 'CNC', 'COF', 'COP', 'COST', 'CRM', 'CSCO', 'CSX', 'CTSH', 'CTXS', 'CVS', 'CVX', 'D', 'DAL', 'DD', 'DE', 'DG', 'DHI', 'DHR', 'DIS', 'DLR', 'DOW', 'DRI', 'DTE', 'DUK', 'DXCM', 'EA', 'EBAY', 'ECL', 'EL', 'ENPH', 'EOG', 'EQIX', 'EQR', 'ETN', 'ETSY', 'EW', 'EXC', 'EXPE', 'F', 'FANG', 'FCX', 'FDX', 'FE', 'FIS', 'FISV', 'FTNT', 'GD', 'GE', 'GILD', 'GIS', 'GM', 'GOOG', 'GOOGL', 'GPN', 'GS', 'HAL', 'HCA', 'HD', 'HLT', 'HON', 'HPQ', 'HUM', 'IBM', 'ICE', 'ILMN', 'INTC', 'INTU', 'ISRG', 'ITW', 'JCI', 'JNJ', 'JPM', 'KHC', 'KMB', 'KMI', 'KO', 'KR', 'LEN', 'LH', 'LHX', 'LIN', 'LLY', 'LMT', 'LOW', 'LRCX', 'LUV', 'LVS', 'LYV', 'MA', 'MAR', 'MCD', 'MCHP', 'MCK', 'MCO', 'MDLZ', 'MDT', 'MET', 'META', 'MGM', 'MMC', 'MMM', 'MO', 'MPC', 'MRK', 'MRO', 'MS', 'MSCI', 'MSFT', 'MU', 'NCLH', 'NEE', 'NEM', 'NFLX', 'NKE', 'NOC', 'NOW', 'NSC', 'NVDA', 'NXPI', 'O', 'OKE', 'ORCL', 'ORLY', 'OTIS', 'OXY', 'PAYC', 'PEP', 'PFE', 'PG', 'PGR', 'PLD', 'PM', 'PNC', 'PSA', 'PSX', 'PXD', 'PYPL', 'QCOM', 'RCL', 'REGN', 'ROST', 'RTX', 'SBAC', 'SBUX', 'SCHW', 'SHW', 'SLB', 'SO', 'SPG', 'SPGI', 'SRE', 'STZ', 'SWK', 'SWKS', 'SYF', 'SYK', 'SYY', 'T', 'TDG', 'TFC', 'TGT', 'TJX', 'TMO', 'TMUS', 'TSLA', 'TTWO', 'TWTR', 'TXN', 'UAL', 'ULTA', 'UNH', 'UNP', 'UPS', 'URI', 'USB', 'V', 'VLO', 'VMC', 'VRTX', 'VTR', 'VZ', 'WBA', 'WDC', 'WELL', 'WFC', 'WM', 'WMB', 'WMT', 'WYNN', 'XEL', 'XOM', 'YUM', 'ZBH', 'ZTS']\n"
     ]
    }
   ],
   "source": [
    "# 将ticker设为index\n",
    "B_MC.set_index('Ticker', inplace = True)\n",
    "\n",
    "BMC_list = B_MC.index.values.tolist()\n",
    "print(BMC_list)"
   ]
  },
  {
   "cell_type": "code",
   "execution_count": 39,
   "metadata": {},
   "outputs": [
    {
     "name": "stdout",
     "output_type": "stream",
     "text": [
      "[*********************100%***********************]  245 of 245 completed\n",
      "            Adj Close                                                \\\n",
      "                    A         AAP        ABC        ABMD        ADM   \n",
      "Date                                                                  \n",
      "2020-04-13  75.130135  107.590042  82.784035  156.389999  34.151207   \n",
      "2020-04-14  77.713020  112.861938  86.630165  161.350006  35.258965   \n",
      "2020-04-15  75.958244  109.536438  85.574181  159.539993  33.602062   \n",
      "2020-04-16  77.634155  114.955048  83.588135  160.199997  33.763016   \n",
      "2020-04-17  78.422813  116.255928  86.407349  166.020004  35.211628   \n",
      "\n",
      "                                                                     ...  \\\n",
      "                  AEE        AES         AIZ        AJG        AKAM  ...   \n",
      "Date                                                                 ...   \n",
      "2020-04-13  71.488953  13.388396  104.515358  81.148338   95.190002  ...   \n",
      "2020-04-14  72.761833  13.218567  103.668228  84.032272  100.500000  ...   \n",
      "2020-04-15  71.187218  11.973134   97.622757  81.226021  100.389999  ...   \n",
      "2020-04-16  72.846703  11.473073   96.823753  78.448891  105.839996  ...   \n",
      "2020-04-17  73.384132  12.378841  101.858429  81.177467  105.349998  ...   \n",
      "\n",
      "             Volume                                                       \\\n",
      "                WEC      WHR      WRB      WRK     WST       WY     XRAY   \n",
      "Date                                                                       \n",
      "2020-04-13  1133300   866700  1314300  2714500  336000  4780400  2754200   \n",
      "2020-04-14  1703700   908000  1144650  2630100  355600  3967500  2739600   \n",
      "2020-04-15  1979400  1144500  1680150  1924800  389400  4559600  1376300   \n",
      "2020-04-16  1531400  1000900  1359150  2407200  363400  3196300  1761300   \n",
      "2020-04-17  1432000  1023400  1703400  2156700  408500  4786900  2223900   \n",
      "\n",
      "                                      \n",
      "                XYL    ZBRA     ZION  \n",
      "Date                                  \n",
      "2020-04-13   779000  331700  3218900  \n",
      "2020-04-14  1140200  358800  3253900  \n",
      "2020-04-15  1175400  389100  4055100  \n",
      "2020-04-16  1442500  387500  4420900  \n",
      "2020-04-17  1856900  382300  3782800  \n",
      "\n",
      "[5 rows x 1470 columns]\n"
     ]
    }
   ],
   "source": [
    "# 抓取小市值企业股票信息\n",
    "start = datetime.datetime(2020,4,12)\n",
    "end = datetime.datetime(2020,7,12)\n",
    "data_SMC = yf.download(SMC_list, start=start, end=end)\n",
    "print(data_SMC.head())"
   ]
  },
  {
   "cell_type": "code",
   "execution_count": 40,
   "metadata": {},
   "outputs": [
    {
     "name": "stdout",
     "output_type": "stream",
     "text": [
      "[*********************100%***********************]  245 of 245 completed\n",
      "           Adj Close                                                           \\\n",
      "                 AAL       AAPL       ABBV        ABT         ACN        ADBE   \n",
      "Date                                                                            \n",
      "2020-04-13     11.56  67.672096  72.830475  83.290741  167.982834  320.649994   \n",
      "2020-04-14     11.95  71.089745  75.601181  86.846832  173.365845  340.769989   \n",
      "2020-04-15     12.29  70.440895  75.315842  88.600533  165.690033  332.549988   \n",
      "2020-04-16     11.07  71.000603  75.352654  93.530357  164.223312  342.700012   \n",
      "2020-04-17     11.57  70.037216  76.816254  93.540100  171.204895  344.109985   \n",
      "\n",
      "                                                          ...    Volume  \\\n",
      "                  ADI         ADP        ADSK        AEP  ...       WFC   \n",
      "Date                                                      ...             \n",
      "2020-04-13  95.203865  135.719498  160.919998  76.698486  ...  36068900   \n",
      "2020-04-14  98.403748  139.940948  172.220001  79.224464  ...  64267100   \n",
      "2020-04-15  95.948898  133.881119  169.139999  76.799515  ...  41883900   \n",
      "2020-04-16  97.267067  133.180756  171.000000  77.203682  ...  52962100   \n",
      "2020-04-17  98.193619  137.227158  180.940002  79.343872  ...  46985000   \n",
      "\n",
      "                                                                              \\\n",
      "                 WM       WMB       WMT     WYNN      XEL       XOM      YUM   \n",
      "Date                                                                           \n",
      "2020-04-13  1978000  15167800   8064700  7528100  2401800  29651900  2014500   \n",
      "2020-04-14  3052400  13708800  11366300  6531700  3067400  30769000  2502800   \n",
      "2020-04-15  2212900  13693600   7478400  5966700  2524700  33125000  1907600   \n",
      "2020-04-16  2083000  10492400  10627400  6293700  3074700  30934000  2376700   \n",
      "2020-04-17  2917200  13609400  10305100  7338100  2550600  40829100  3326300   \n",
      "\n",
      "                              \n",
      "                ZBH      ZTS  \n",
      "Date                          \n",
      "2020-04-13  1167196  3188900  \n",
      "2020-04-14  2374047  2508200  \n",
      "2020-04-15  1647485  2262900  \n",
      "2020-04-16  1489792  2064000  \n",
      "2020-04-17  1965446  1977600  \n",
      "\n",
      "[5 rows x 1470 columns]\n"
     ]
    }
   ],
   "source": [
    "# 抓取大市值企业股票信息\n",
    "start = datetime.datetime(2020,4,12)\n",
    "end = datetime.datetime(2020,7,12)\n",
    "data_BMC = yf.download(BMC_list, start=start, end=end)\n",
    "print(data_BMC.head())"
   ]
  },
  {
   "cell_type": "markdown",
   "metadata": {},
   "source": [
    "Source: https://www.codingfinance.com/post/2018-04-03-calc-returns-py/"
   ]
  },
  {
   "cell_type": "code",
   "execution_count": 41,
   "metadata": {},
   "outputs": [
    {
     "data": {
      "text/html": [
       "<div>\n",
       "<style scoped>\n",
       "    .dataframe tbody tr th:only-of-type {\n",
       "        vertical-align: middle;\n",
       "    }\n",
       "\n",
       "    .dataframe tbody tr th {\n",
       "        vertical-align: top;\n",
       "    }\n",
       "\n",
       "    .dataframe thead th {\n",
       "        text-align: right;\n",
       "    }\n",
       "</style>\n",
       "<table border=\"1\" class=\"dataframe\">\n",
       "  <thead>\n",
       "    <tr style=\"text-align: right;\">\n",
       "      <th></th>\n",
       "      <th>Mean_SMC</th>\n",
       "    </tr>\n",
       "    <tr>\n",
       "      <th>Date</th>\n",
       "      <th></th>\n",
       "    </tr>\n",
       "  </thead>\n",
       "  <tbody>\n",
       "    <tr>\n",
       "      <th>2020-04-14</th>\n",
       "      <td>0.022390</td>\n",
       "    </tr>\n",
       "    <tr>\n",
       "      <th>2020-04-15</th>\n",
       "      <td>-0.038329</td>\n",
       "    </tr>\n",
       "    <tr>\n",
       "      <th>2020-04-16</th>\n",
       "      <td>-0.005444</td>\n",
       "    </tr>\n",
       "    <tr>\n",
       "      <th>2020-04-17</th>\n",
       "      <td>0.043324</td>\n",
       "    </tr>\n",
       "    <tr>\n",
       "      <th>2020-04-20</th>\n",
       "      <td>-0.020909</td>\n",
       "    </tr>\n",
       "  </tbody>\n",
       "</table>\n",
       "</div>"
      ],
      "text/plain": [
       "            Mean_SMC\n",
       "Date                \n",
       "2020-04-14  0.022390\n",
       "2020-04-15 -0.038329\n",
       "2020-04-16 -0.005444\n",
       "2020-04-17  0.043324\n",
       "2020-04-20 -0.020909"
      ]
     },
     "execution_count": 41,
     "metadata": {},
     "output_type": "execute_result"
    }
   ],
   "source": [
    "# 获取小市值公司报酬率\n",
    "returns_SMC = data_SMC['Adj Close'].pct_change()\n",
    "returns_SMC.dropna(inplace = True)\n",
    "\n",
    "# 求每日报酬率均值\n",
    "returns_SMC['Mean_SMC'] = returns_SMC.mean(axis=1)\n",
    "avgret_SMC = returns_SMC[['Mean_SMC']]\n",
    "avgret_SMC.head()"
   ]
  },
  {
   "cell_type": "code",
   "execution_count": 42,
   "metadata": {},
   "outputs": [
    {
     "data": {
      "text/html": [
       "<div>\n",
       "<style scoped>\n",
       "    .dataframe tbody tr th:only-of-type {\n",
       "        vertical-align: middle;\n",
       "    }\n",
       "\n",
       "    .dataframe tbody tr th {\n",
       "        vertical-align: top;\n",
       "    }\n",
       "\n",
       "    .dataframe thead th {\n",
       "        text-align: right;\n",
       "    }\n",
       "</style>\n",
       "<table border=\"1\" class=\"dataframe\">\n",
       "  <thead>\n",
       "    <tr style=\"text-align: right;\">\n",
       "      <th></th>\n",
       "      <th>Mean_BMC</th>\n",
       "    </tr>\n",
       "    <tr>\n",
       "      <th>Date</th>\n",
       "      <th></th>\n",
       "    </tr>\n",
       "  </thead>\n",
       "  <tbody>\n",
       "    <tr>\n",
       "      <th>2020-04-14</th>\n",
       "      <td>0.028270</td>\n",
       "    </tr>\n",
       "    <tr>\n",
       "      <th>2020-04-15</th>\n",
       "      <td>-0.028406</td>\n",
       "    </tr>\n",
       "    <tr>\n",
       "      <th>2020-04-16</th>\n",
       "      <td>-0.003942</td>\n",
       "    </tr>\n",
       "    <tr>\n",
       "      <th>2020-04-17</th>\n",
       "      <td>0.042244</td>\n",
       "    </tr>\n",
       "    <tr>\n",
       "      <th>2020-04-20</th>\n",
       "      <td>-0.021489</td>\n",
       "    </tr>\n",
       "  </tbody>\n",
       "</table>\n",
       "</div>"
      ],
      "text/plain": [
       "            Mean_BMC\n",
       "Date                \n",
       "2020-04-14  0.028270\n",
       "2020-04-15 -0.028406\n",
       "2020-04-16 -0.003942\n",
       "2020-04-17  0.042244\n",
       "2020-04-20 -0.021489"
      ]
     },
     "execution_count": 42,
     "metadata": {},
     "output_type": "execute_result"
    }
   ],
   "source": [
    "# 获取大市值公司报酬率\n",
    "returns_BMC = data_BMC['Adj Close'].pct_change()\n",
    "returns_BMC.dropna(inplace = True)\n",
    "\n",
    "# 求每日报酬率均值\n",
    "returns_BMC['Mean_BMC'] = returns_BMC.mean(axis=1)\n",
    "avgret_BMC = returns_BMC[['Mean_BMC']]\n",
    "avgret_BMC.head()"
   ]
  },
  {
   "cell_type": "code",
   "execution_count": 43,
   "metadata": {},
   "outputs": [
    {
     "data": {
      "text/html": [
       "<div>\n",
       "<style scoped>\n",
       "    .dataframe tbody tr th:only-of-type {\n",
       "        vertical-align: middle;\n",
       "    }\n",
       "\n",
       "    .dataframe tbody tr th {\n",
       "        vertical-align: top;\n",
       "    }\n",
       "\n",
       "    .dataframe thead th {\n",
       "        text-align: right;\n",
       "    }\n",
       "</style>\n",
       "<table border=\"1\" class=\"dataframe\">\n",
       "  <thead>\n",
       "    <tr style=\"text-align: right;\">\n",
       "      <th></th>\n",
       "      <th>smb</th>\n",
       "    </tr>\n",
       "    <tr>\n",
       "      <th>Date</th>\n",
       "      <th></th>\n",
       "    </tr>\n",
       "  </thead>\n",
       "  <tbody>\n",
       "    <tr>\n",
       "      <th>2020-04-14</th>\n",
       "      <td>-0.001960</td>\n",
       "    </tr>\n",
       "    <tr>\n",
       "      <th>2020-04-15</th>\n",
       "      <td>-0.003307</td>\n",
       "    </tr>\n",
       "    <tr>\n",
       "      <th>2020-04-16</th>\n",
       "      <td>-0.000500</td>\n",
       "    </tr>\n",
       "    <tr>\n",
       "      <th>2020-04-17</th>\n",
       "      <td>0.000360</td>\n",
       "    </tr>\n",
       "    <tr>\n",
       "      <th>2020-04-20</th>\n",
       "      <td>0.000193</td>\n",
       "    </tr>\n",
       "  </tbody>\n",
       "</table>\n",
       "</div>"
      ],
      "text/plain": [
       "                 smb\n",
       "Date                \n",
       "2020-04-14 -0.001960\n",
       "2020-04-15 -0.003307\n",
       "2020-04-16 -0.000500\n",
       "2020-04-17  0.000360\n",
       "2020-04-20  0.000193"
      ]
     },
     "execution_count": 43,
     "metadata": {},
     "output_type": "execute_result"
    }
   ],
   "source": [
    "# 计算出smb的时间序列\n",
    "smb = pd.concat([avgret_SMC, avgret_BMC], axis=1)\n",
    "smb['smb'] = (smb['Mean_SMC']/3)-(smb['Mean_BMC']/3)\n",
    "smb = smb[['smb']]\n",
    "smb.head()"
   ]
  },
  {
   "cell_type": "markdown",
   "metadata": {},
   "source": [
    "### 构建公司价值因子HML"
   ]
  },
  {
   "cell_type": "markdown",
   "metadata": {},
   "source": [
    "<p>按照以下公式计算：$HML = {{SH+BH} \\over 2}-{{SL+BL} \\over 2}$<p>\n",
    "<p>先把高PB和低PB两组公司的tickers导出为两个lists，然后分别从yfinance抓取价格后求收益率，再分别求收益率的均值。<p>"
   ]
  },
  {
   "cell_type": "code",
   "execution_count": 44,
   "metadata": {},
   "outputs": [
    {
     "data": {
      "text/plain": [
       "147"
      ]
     },
     "execution_count": 44,
     "metadata": {},
     "output_type": "execute_result"
    }
   ],
   "source": [
    "# 整合高PB的tickers\n",
    "HBM_list = H_BM['Ticker'].tolist()\n",
    "len(HBM_list)"
   ]
  },
  {
   "cell_type": "code",
   "execution_count": 45,
   "metadata": {},
   "outputs": [
    {
     "data": {
      "text/plain": [
       "147"
      ]
     },
     "execution_count": 45,
     "metadata": {},
     "output_type": "execute_result"
    }
   ],
   "source": [
    "# 整合低PB的tickers\n",
    "LBM_list = L_BM['Ticker'].tolist()\n",
    "len(LBM_list)"
   ]
  },
  {
   "cell_type": "code",
   "execution_count": 46,
   "metadata": {
    "scrolled": true
   },
   "outputs": [
    {
     "name": "stdout",
     "output_type": "stream",
     "text": [
      "[*********************100%***********************]  147 of 147 completed\n",
      "            Adj Close                                                          \\\n",
      "                  ADM        AEP        AFL        AIG         AIZ        ALK   \n",
      "Date                                                                            \n",
      "2020-04-13  34.151207  77.910782  34.886379  24.283768  104.515358  29.510000   \n",
      "2020-04-14  35.258965  80.476700  35.354282  24.425890  103.668228  31.049999   \n",
      "2020-04-15  33.602062  78.013420  33.454620  22.815180   97.622757  30.080000   \n",
      "2020-04-16  33.763016  78.423973  32.790211  21.962458   96.823753  28.260000   \n",
      "2020-04-17  35.211628  80.597984  34.137753  23.213121  101.858429  29.930000   \n",
      "\n",
      "                                                           ...   Volume  \\\n",
      "                  ALL         ARE         ATO         AVB  ...      WAB   \n",
      "Date                                                       ...            \n",
      "2020-04-13  93.235428  141.150543   98.143585  151.883896  ...   917300   \n",
      "2020-04-14  97.459564  148.823502  102.743324  157.172211  ...  1056300   \n",
      "2020-04-15  93.178345  145.614456  101.070686  151.573364  ...  1347700   \n",
      "2020-04-16  95.071602  145.671967   99.873238  151.733353  ...  1952300   \n",
      "2020-04-17  99.818977  148.775635  105.204750  160.315079  ...  2043100   \n",
      "\n",
      "                                                                             \\\n",
      "                WBA      WDC     WELL       WFC      WRK       XOM     XRAY   \n",
      "Date                                                                          \n",
      "2020-04-13  4412300  5688600  3596100  36068900  2714500  29651900  2754200   \n",
      "2020-04-14  6482400  5780500  3245700  64267100  2630100  30769000  2739600   \n",
      "2020-04-15  6050200  5064100  3127800  41883900  1924800  33125000  1376300   \n",
      "2020-04-16  6130400  6075300  2492900  52962100  2407200  30934000  1761300   \n",
      "2020-04-17  6288500  5856700  4518200  46985000  2156700  40829100  2223900   \n",
      "\n",
      "                              \n",
      "                ZBH     ZION  \n",
      "Date                          \n",
      "2020-04-13  1167196  3218900  \n",
      "2020-04-14  2374047  3253900  \n",
      "2020-04-15  1647485  4055100  \n",
      "2020-04-16  1489792  4420900  \n",
      "2020-04-17  1965446  3782800  \n",
      "\n",
      "[5 rows x 882 columns]\n"
     ]
    }
   ],
   "source": [
    "# 抓取高PB的tickers的股票信息\n",
    "start = datetime.datetime(2020,4,12)\n",
    "end = datetime.datetime(2020,7,12)\n",
    "data_HBM = yf.download(HBM_list, start=start, end=end)\n",
    "print(data_HBM.head())"
   ]
  },
  {
   "cell_type": "code",
   "execution_count": 47,
   "metadata": {},
   "outputs": [
    {
     "name": "stdout",
     "output_type": "stream",
     "text": [
      "[*********************100%***********************]  147 of 147 completed\n",
      "           Adj Close                                                           \\\n",
      "                 AAL       AAPL       ABBV        ABC        ABMD         ACN   \n",
      "Date                                                                            \n",
      "2020-04-13     11.56  67.672096  72.830475  82.784035  156.389999  167.982834   \n",
      "2020-04-14     11.95  71.089745  75.601181  86.630165  161.350006  173.365845   \n",
      "2020-04-15     12.29  70.440895  75.315842  85.574181  159.539993  165.690033   \n",
      "2020-04-16     11.07  71.000603  75.352654  83.588135  160.199997  164.223312   \n",
      "2020-04-17     11.57  70.037216  76.816254  86.407349  166.020004  171.204895   \n",
      "\n",
      "                                                           ...    Volume  \\\n",
      "                  ADBE         ADP        ADSK       ALLE  ...         V   \n",
      "Date                                                       ...             \n",
      "2020-04-13  320.649994  135.719498  160.919998  93.848831  ...  14043700   \n",
      "2020-04-14  340.769989  139.940948  172.220001  95.955688  ...   9980500   \n",
      "2020-04-15  332.549988  133.881119  169.139999  92.565102  ...  12118700   \n",
      "2020-04-16  342.700012  133.180756  171.000000  92.094734  ...  20308200   \n",
      "2020-04-17  344.109985  137.227158  180.940002  95.671509  ...  15375800   \n",
      "\n",
      "                                                                         \\\n",
      "               VRSK     VRSN     VRTX     WAT       WM     WST      YUM   \n",
      "Date                                                                      \n",
      "2020-04-13   704600   716300  1831300  436000  1978000  336000  2014500   \n",
      "2020-04-14  1070200   607200  2180500  475300  3052400  355600  2502800   \n",
      "2020-04-15   722300   499200  2686500  546100  2212900  389400  1907600   \n",
      "2020-04-16   912400  1330400  2172800  585200  2083000  363400  2376700   \n",
      "2020-04-17   957800   633200  2166700  362800  2917200  408500  3326300   \n",
      "\n",
      "                             \n",
      "              ZBRA      ZTS  \n",
      "Date                         \n",
      "2020-04-13  331700  3188900  \n",
      "2020-04-14  358800  2508200  \n",
      "2020-04-15  389100  2262900  \n",
      "2020-04-16  387500  2064000  \n",
      "2020-04-17  382300  1977600  \n",
      "\n",
      "[5 rows x 882 columns]\n"
     ]
    }
   ],
   "source": [
    "# 抓取低PB的tickers的股票信息\n",
    "start = datetime.datetime(2020,4,12)\n",
    "end = datetime.datetime(2020,7,12)\n",
    "data_LBM = yf.download(LBM_list, start=start, end=end)\n",
    "print(data_LBM.head())"
   ]
  },
  {
   "cell_type": "code",
   "execution_count": 48,
   "metadata": {},
   "outputs": [
    {
     "data": {
      "text/html": [
       "<div>\n",
       "<style scoped>\n",
       "    .dataframe tbody tr th:only-of-type {\n",
       "        vertical-align: middle;\n",
       "    }\n",
       "\n",
       "    .dataframe tbody tr th {\n",
       "        vertical-align: top;\n",
       "    }\n",
       "\n",
       "    .dataframe thead th {\n",
       "        text-align: right;\n",
       "    }\n",
       "</style>\n",
       "<table border=\"1\" class=\"dataframe\">\n",
       "  <thead>\n",
       "    <tr style=\"text-align: right;\">\n",
       "      <th></th>\n",
       "      <th>Mean_LBM</th>\n",
       "    </tr>\n",
       "    <tr>\n",
       "      <th>Date</th>\n",
       "      <th></th>\n",
       "    </tr>\n",
       "  </thead>\n",
       "  <tbody>\n",
       "    <tr>\n",
       "      <th>2020-04-14</th>\n",
       "      <td>0.035746</td>\n",
       "    </tr>\n",
       "    <tr>\n",
       "      <th>2020-04-15</th>\n",
       "      <td>-0.020313</td>\n",
       "    </tr>\n",
       "    <tr>\n",
       "      <th>2020-04-16</th>\n",
       "      <td>0.007823</td>\n",
       "    </tr>\n",
       "    <tr>\n",
       "      <th>2020-04-17</th>\n",
       "      <td>0.029957</td>\n",
       "    </tr>\n",
       "    <tr>\n",
       "      <th>2020-04-20</th>\n",
       "      <td>-0.015928</td>\n",
       "    </tr>\n",
       "  </tbody>\n",
       "</table>\n",
       "</div>"
      ],
      "text/plain": [
       "            Mean_LBM\n",
       "Date                \n",
       "2020-04-14  0.035746\n",
       "2020-04-15 -0.020313\n",
       "2020-04-16  0.007823\n",
       "2020-04-17  0.029957\n",
       "2020-04-20 -0.015928"
      ]
     },
     "execution_count": 48,
     "metadata": {},
     "output_type": "execute_result"
    }
   ],
   "source": [
    "# 获取低PB公司报酬率\n",
    "returns_LBM = data_LBM['Adj Close'].pct_change()\n",
    "returns_LBM.dropna(inplace = True)\n",
    "\n",
    "# 求每日报酬率均值\n",
    "returns_LBM['Mean_LBM'] = returns_LBM.mean(axis=1)\n",
    "avgret_LBM = returns_LBM[['Mean_LBM']]\n",
    "avgret_LBM.head()"
   ]
  },
  {
   "cell_type": "code",
   "execution_count": 49,
   "metadata": {},
   "outputs": [
    {
     "data": {
      "text/html": [
       "<div>\n",
       "<style scoped>\n",
       "    .dataframe tbody tr th:only-of-type {\n",
       "        vertical-align: middle;\n",
       "    }\n",
       "\n",
       "    .dataframe tbody tr th {\n",
       "        vertical-align: top;\n",
       "    }\n",
       "\n",
       "    .dataframe thead th {\n",
       "        text-align: right;\n",
       "    }\n",
       "</style>\n",
       "<table border=\"1\" class=\"dataframe\">\n",
       "  <thead>\n",
       "    <tr style=\"text-align: right;\">\n",
       "      <th></th>\n",
       "      <th>ADM</th>\n",
       "      <th>AEP</th>\n",
       "      <th>AFL</th>\n",
       "      <th>AIG</th>\n",
       "      <th>AIZ</th>\n",
       "      <th>ALK</th>\n",
       "      <th>ALL</th>\n",
       "      <th>ARE</th>\n",
       "      <th>ATO</th>\n",
       "      <th>AVB</th>\n",
       "      <th>...</th>\n",
       "      <th>WAB</th>\n",
       "      <th>WBA</th>\n",
       "      <th>WDC</th>\n",
       "      <th>WELL</th>\n",
       "      <th>WFC</th>\n",
       "      <th>WRK</th>\n",
       "      <th>XOM</th>\n",
       "      <th>XRAY</th>\n",
       "      <th>ZBH</th>\n",
       "      <th>ZION</th>\n",
       "    </tr>\n",
       "    <tr>\n",
       "      <th>Date</th>\n",
       "      <th></th>\n",
       "      <th></th>\n",
       "      <th></th>\n",
       "      <th></th>\n",
       "      <th></th>\n",
       "      <th></th>\n",
       "      <th></th>\n",
       "      <th></th>\n",
       "      <th></th>\n",
       "      <th></th>\n",
       "      <th></th>\n",
       "      <th></th>\n",
       "      <th></th>\n",
       "      <th></th>\n",
       "      <th></th>\n",
       "      <th></th>\n",
       "      <th></th>\n",
       "      <th></th>\n",
       "      <th></th>\n",
       "      <th></th>\n",
       "      <th></th>\n",
       "    </tr>\n",
       "  </thead>\n",
       "  <tbody>\n",
       "    <tr>\n",
       "      <th>2020-04-14</th>\n",
       "      <td>0.032437</td>\n",
       "      <td>0.032934</td>\n",
       "      <td>0.013412</td>\n",
       "      <td>0.005853</td>\n",
       "      <td>-0.008105</td>\n",
       "      <td>0.052186</td>\n",
       "      <td>0.045306</td>\n",
       "      <td>0.054360</td>\n",
       "      <td>0.046867</td>\n",
       "      <td>0.034818</td>\n",
       "      <td>...</td>\n",
       "      <td>0.011964</td>\n",
       "      <td>0.051462</td>\n",
       "      <td>0.023080</td>\n",
       "      <td>0.016578</td>\n",
       "      <td>-0.039771</td>\n",
       "      <td>-0.016338</td>\n",
       "      <td>-0.007717</td>\n",
       "      <td>0.012923</td>\n",
       "      <td>0.051565</td>\n",
       "      <td>-0.017952</td>\n",
       "    </tr>\n",
       "    <tr>\n",
       "      <th>2020-04-15</th>\n",
       "      <td>-0.046992</td>\n",
       "      <td>-0.030609</td>\n",
       "      <td>-0.053732</td>\n",
       "      <td>-0.065943</td>\n",
       "      <td>-0.058316</td>\n",
       "      <td>-0.031240</td>\n",
       "      <td>-0.043928</td>\n",
       "      <td>-0.021563</td>\n",
       "      <td>-0.016280</td>\n",
       "      <td>-0.035622</td>\n",
       "      <td>...</td>\n",
       "      <td>-0.053394</td>\n",
       "      <td>-0.063389</td>\n",
       "      <td>-0.047353</td>\n",
       "      <td>-0.090347</td>\n",
       "      <td>-0.057654</td>\n",
       "      <td>-0.050141</td>\n",
       "      <td>-0.045958</td>\n",
       "      <td>-0.019872</td>\n",
       "      <td>-0.030548</td>\n",
       "      <td>-0.051794</td>\n",
       "    </tr>\n",
       "    <tr>\n",
       "      <th>2020-04-16</th>\n",
       "      <td>0.004790</td>\n",
       "      <td>0.005263</td>\n",
       "      <td>-0.019860</td>\n",
       "      <td>-0.037375</td>\n",
       "      <td>-0.008185</td>\n",
       "      <td>-0.060505</td>\n",
       "      <td>0.020319</td>\n",
       "      <td>0.000395</td>\n",
       "      <td>-0.011848</td>\n",
       "      <td>0.001056</td>\n",
       "      <td>...</td>\n",
       "      <td>-0.042708</td>\n",
       "      <td>-0.004834</td>\n",
       "      <td>-0.036811</td>\n",
       "      <td>-0.026582</td>\n",
       "      <td>-0.054501</td>\n",
       "      <td>-0.049159</td>\n",
       "      <td>-0.032856</td>\n",
       "      <td>-0.021777</td>\n",
       "      <td>-0.007265</td>\n",
       "      <td>-0.038201</td>\n",
       "    </tr>\n",
       "    <tr>\n",
       "      <th>2020-04-17</th>\n",
       "      <td>0.042905</td>\n",
       "      <td>0.027721</td>\n",
       "      <td>0.041096</td>\n",
       "      <td>0.056946</td>\n",
       "      <td>0.051998</td>\n",
       "      <td>0.059094</td>\n",
       "      <td>0.049935</td>\n",
       "      <td>0.021306</td>\n",
       "      <td>0.053383</td>\n",
       "      <td>0.056558</td>\n",
       "      <td>...</td>\n",
       "      <td>0.036406</td>\n",
       "      <td>0.029378</td>\n",
       "      <td>0.030185</td>\n",
       "      <td>0.039373</td>\n",
       "      <td>0.055411</td>\n",
       "      <td>0.064886</td>\n",
       "      <td>0.103959</td>\n",
       "      <td>0.045548</td>\n",
       "      <td>0.084705</td>\n",
       "      <td>0.079436</td>\n",
       "    </tr>\n",
       "    <tr>\n",
       "      <th>2020-04-20</th>\n",
       "      <td>-0.022856</td>\n",
       "      <td>-0.040171</td>\n",
       "      <td>-0.009046</td>\n",
       "      <td>-0.030612</td>\n",
       "      <td>-0.026368</td>\n",
       "      <td>-0.023388</td>\n",
       "      <td>-0.020968</td>\n",
       "      <td>-0.027815</td>\n",
       "      <td>-0.073803</td>\n",
       "      <td>-0.057874</td>\n",
       "      <td>...</td>\n",
       "      <td>-0.006091</td>\n",
       "      <td>-0.037079</td>\n",
       "      <td>-0.065454</td>\n",
       "      <td>-0.075764</td>\n",
       "      <td>-0.024665</td>\n",
       "      <td>-0.033561</td>\n",
       "      <td>-0.047200</td>\n",
       "      <td>0.010279</td>\n",
       "      <td>-0.013324</td>\n",
       "      <td>0.006534</td>\n",
       "    </tr>\n",
       "  </tbody>\n",
       "</table>\n",
       "<p>5 rows × 147 columns</p>\n",
       "</div>"
      ],
      "text/plain": [
       "                 ADM       AEP       AFL       AIG       AIZ       ALK  \\\n",
       "Date                                                                     \n",
       "2020-04-14  0.032437  0.032934  0.013412  0.005853 -0.008105  0.052186   \n",
       "2020-04-15 -0.046992 -0.030609 -0.053732 -0.065943 -0.058316 -0.031240   \n",
       "2020-04-16  0.004790  0.005263 -0.019860 -0.037375 -0.008185 -0.060505   \n",
       "2020-04-17  0.042905  0.027721  0.041096  0.056946  0.051998  0.059094   \n",
       "2020-04-20 -0.022856 -0.040171 -0.009046 -0.030612 -0.026368 -0.023388   \n",
       "\n",
       "                 ALL       ARE       ATO       AVB  ...       WAB       WBA  \\\n",
       "Date                                                ...                       \n",
       "2020-04-14  0.045306  0.054360  0.046867  0.034818  ...  0.011964  0.051462   \n",
       "2020-04-15 -0.043928 -0.021563 -0.016280 -0.035622  ... -0.053394 -0.063389   \n",
       "2020-04-16  0.020319  0.000395 -0.011848  0.001056  ... -0.042708 -0.004834   \n",
       "2020-04-17  0.049935  0.021306  0.053383  0.056558  ...  0.036406  0.029378   \n",
       "2020-04-20 -0.020968 -0.027815 -0.073803 -0.057874  ... -0.006091 -0.037079   \n",
       "\n",
       "                 WDC      WELL       WFC       WRK       XOM      XRAY  \\\n",
       "Date                                                                     \n",
       "2020-04-14  0.023080  0.016578 -0.039771 -0.016338 -0.007717  0.012923   \n",
       "2020-04-15 -0.047353 -0.090347 -0.057654 -0.050141 -0.045958 -0.019872   \n",
       "2020-04-16 -0.036811 -0.026582 -0.054501 -0.049159 -0.032856 -0.021777   \n",
       "2020-04-17  0.030185  0.039373  0.055411  0.064886  0.103959  0.045548   \n",
       "2020-04-20 -0.065454 -0.075764 -0.024665 -0.033561 -0.047200  0.010279   \n",
       "\n",
       "                 ZBH      ZION  \n",
       "Date                            \n",
       "2020-04-14  0.051565 -0.017952  \n",
       "2020-04-15 -0.030548 -0.051794  \n",
       "2020-04-16 -0.007265 -0.038201  \n",
       "2020-04-17  0.084705  0.079436  \n",
       "2020-04-20 -0.013324  0.006534  \n",
       "\n",
       "[5 rows x 147 columns]"
      ]
     },
     "execution_count": 49,
     "metadata": {},
     "output_type": "execute_result"
    }
   ],
   "source": [
    "# 获取高PB公司报酬率\n",
    "returns_HBM = data_HBM['Adj Close'].pct_change()\n",
    "returns_HBM.dropna(inplace = True)\n",
    "returns_HBM.head()"
   ]
  },
  {
   "cell_type": "code",
   "execution_count": 50,
   "metadata": {},
   "outputs": [
    {
     "data": {
      "text/html": [
       "<div>\n",
       "<style scoped>\n",
       "    .dataframe tbody tr th:only-of-type {\n",
       "        vertical-align: middle;\n",
       "    }\n",
       "\n",
       "    .dataframe tbody tr th {\n",
       "        vertical-align: top;\n",
       "    }\n",
       "\n",
       "    .dataframe thead th {\n",
       "        text-align: right;\n",
       "    }\n",
       "</style>\n",
       "<table border=\"1\" class=\"dataframe\">\n",
       "  <thead>\n",
       "    <tr style=\"text-align: right;\">\n",
       "      <th></th>\n",
       "      <th>Mean_HBM</th>\n",
       "    </tr>\n",
       "    <tr>\n",
       "      <th>Date</th>\n",
       "      <th></th>\n",
       "    </tr>\n",
       "  </thead>\n",
       "  <tbody>\n",
       "    <tr>\n",
       "      <th>2020-04-14</th>\n",
       "      <td>0.016403</td>\n",
       "    </tr>\n",
       "    <tr>\n",
       "      <th>2020-04-15</th>\n",
       "      <td>-0.046134</td>\n",
       "    </tr>\n",
       "    <tr>\n",
       "      <th>2020-04-16</th>\n",
       "      <td>-0.019306</td>\n",
       "    </tr>\n",
       "    <tr>\n",
       "      <th>2020-04-17</th>\n",
       "      <td>0.054836</td>\n",
       "    </tr>\n",
       "    <tr>\n",
       "      <th>2020-04-20</th>\n",
       "      <td>-0.026214</td>\n",
       "    </tr>\n",
       "  </tbody>\n",
       "</table>\n",
       "</div>"
      ],
      "text/plain": [
       "            Mean_HBM\n",
       "Date                \n",
       "2020-04-14  0.016403\n",
       "2020-04-15 -0.046134\n",
       "2020-04-16 -0.019306\n",
       "2020-04-17  0.054836\n",
       "2020-04-20 -0.026214"
      ]
     },
     "execution_count": 50,
     "metadata": {},
     "output_type": "execute_result"
    }
   ],
   "source": [
    "# 求每日报酬率均值\n",
    "returns_HBM['Mean_HBM'] = returns_HBM.mean(axis=1)\n",
    "avgret_HBM = returns_HBM[['Mean_HBM']]\n",
    "avgret_HBM.head()"
   ]
  },
  {
   "cell_type": "code",
   "execution_count": 51,
   "metadata": {},
   "outputs": [
    {
     "data": {
      "text/html": [
       "<div>\n",
       "<style scoped>\n",
       "    .dataframe tbody tr th:only-of-type {\n",
       "        vertical-align: middle;\n",
       "    }\n",
       "\n",
       "    .dataframe tbody tr th {\n",
       "        vertical-align: top;\n",
       "    }\n",
       "\n",
       "    .dataframe thead th {\n",
       "        text-align: right;\n",
       "    }\n",
       "</style>\n",
       "<table border=\"1\" class=\"dataframe\">\n",
       "  <thead>\n",
       "    <tr style=\"text-align: right;\">\n",
       "      <th></th>\n",
       "      <th>hml</th>\n",
       "    </tr>\n",
       "    <tr>\n",
       "      <th>Date</th>\n",
       "      <th></th>\n",
       "    </tr>\n",
       "  </thead>\n",
       "  <tbody>\n",
       "    <tr>\n",
       "      <th>2020-04-14</th>\n",
       "      <td>-0.009671</td>\n",
       "    </tr>\n",
       "    <tr>\n",
       "      <th>2020-04-15</th>\n",
       "      <td>-0.012910</td>\n",
       "    </tr>\n",
       "    <tr>\n",
       "      <th>2020-04-16</th>\n",
       "      <td>-0.013565</td>\n",
       "    </tr>\n",
       "    <tr>\n",
       "      <th>2020-04-17</th>\n",
       "      <td>0.012440</td>\n",
       "    </tr>\n",
       "    <tr>\n",
       "      <th>2020-04-20</th>\n",
       "      <td>-0.005143</td>\n",
       "    </tr>\n",
       "  </tbody>\n",
       "</table>\n",
       "</div>"
      ],
      "text/plain": [
       "                 hml\n",
       "Date                \n",
       "2020-04-14 -0.009671\n",
       "2020-04-15 -0.012910\n",
       "2020-04-16 -0.013565\n",
       "2020-04-17  0.012440\n",
       "2020-04-20 -0.005143"
      ]
     },
     "execution_count": 51,
     "metadata": {},
     "output_type": "execute_result"
    }
   ],
   "source": [
    "# 计算出hml的时间序列\n",
    "hml = pd.concat([avgret_HBM, avgret_LBM], axis=1)\n",
    "hml['hml'] = (hml['Mean_HBM']/2)-(hml['Mean_LBM']/2)\n",
    "hml = hml[['hml']]\n",
    "hml.head()"
   ]
  },
  {
   "cell_type": "markdown",
   "metadata": {},
   "source": [
    "### 读取因子数据"
   ]
  },
  {
   "cell_type": "code",
   "execution_count": 52,
   "metadata": {},
   "outputs": [
    {
     "data": {
      "text/html": [
       "<div>\n",
       "<style scoped>\n",
       "    .dataframe tbody tr th:only-of-type {\n",
       "        vertical-align: middle;\n",
       "    }\n",
       "\n",
       "    .dataframe tbody tr th {\n",
       "        vertical-align: top;\n",
       "    }\n",
       "\n",
       "    .dataframe thead th {\n",
       "        text-align: right;\n",
       "    }\n",
       "</style>\n",
       "<table border=\"1\" class=\"dataframe\">\n",
       "  <thead>\n",
       "    <tr style=\"text-align: right;\">\n",
       "      <th></th>\n",
       "      <th>mktrf</th>\n",
       "      <th>smb</th>\n",
       "      <th>hml</th>\n",
       "    </tr>\n",
       "    <tr>\n",
       "      <th>Date</th>\n",
       "      <th></th>\n",
       "      <th></th>\n",
       "      <th></th>\n",
       "    </tr>\n",
       "  </thead>\n",
       "  <tbody>\n",
       "    <tr>\n",
       "      <th>2020-04-14</th>\n",
       "      <td>0.030466</td>\n",
       "      <td>-0.001960</td>\n",
       "      <td>-0.009671</td>\n",
       "    </tr>\n",
       "    <tr>\n",
       "      <th>2020-04-15</th>\n",
       "      <td>-0.022137</td>\n",
       "      <td>-0.003307</td>\n",
       "      <td>-0.012910</td>\n",
       "    </tr>\n",
       "    <tr>\n",
       "      <th>2020-04-16</th>\n",
       "      <td>0.005710</td>\n",
       "      <td>-0.000500</td>\n",
       "      <td>-0.013565</td>\n",
       "    </tr>\n",
       "    <tr>\n",
       "      <th>2020-04-17</th>\n",
       "      <td>0.026687</td>\n",
       "      <td>0.000360</td>\n",
       "      <td>0.012440</td>\n",
       "    </tr>\n",
       "    <tr>\n",
       "      <th>2020-04-20</th>\n",
       "      <td>-0.017987</td>\n",
       "      <td>0.000193</td>\n",
       "      <td>-0.005143</td>\n",
       "    </tr>\n",
       "  </tbody>\n",
       "</table>\n",
       "</div>"
      ],
      "text/plain": [
       "               mktrf       smb       hml\n",
       "Date                                    \n",
       "2020-04-14  0.030466 -0.001960 -0.009671\n",
       "2020-04-15 -0.022137 -0.003307 -0.012910\n",
       "2020-04-16  0.005710 -0.000500 -0.013565\n",
       "2020-04-17  0.026687  0.000360  0.012440\n",
       "2020-04-20 -0.017987  0.000193 -0.005143"
      ]
     },
     "execution_count": 52,
     "metadata": {},
     "output_type": "execute_result"
    }
   ],
   "source": [
    "FF3 = pd.concat((mktrf, smb, hml), axis=1)\n",
    "#FF3['date'] = pd.to_datetime(FF3['date'], format=\"%Y/%m/%d\")\n",
    "#FF3 = FF3.set_index('Date')\n",
    "FF3.dropna()\n",
    "FF3.head()"
   ]
  },
  {
   "cell_type": "markdown",
   "metadata": {},
   "source": [
    "### 平稳性检验"
   ]
  },
  {
   "cell_type": "markdown",
   "metadata": {},
   "source": [
    "在进行回归分析之前，本文对各个变量进行了单位根检验。这是由于当解释变量存在单位根时，该时间序列不是静止的，做回归分析时会使变量间存在虚假关系，即出现伪回归现象。"
   ]
  },
  {
   "cell_type": "markdown",
   "metadata": {},
   "source": [
    "Source: https://machinelearningmastery.com/time-series-data-stationary-python/"
   ]
  },
  {
   "cell_type": "markdown",
   "metadata": {},
   "source": [
    "<mark>SL的ADF检验结果<mark>"
   ]
  },
  {
   "cell_type": "code",
   "execution_count": 53,
   "metadata": {},
   "outputs": [
    {
     "name": "stdout",
     "output_type": "stream",
     "text": [
      "ADF Statistic: -5.354837\n",
      "p-value: 0.000004\n",
      "Critical Values:\n",
      "\t1%: -3.548\n",
      "\t5%: -2.913\n",
      "\t10%: -2.594\n"
     ]
    }
   ],
   "source": [
    "from statsmodels.tsa.stattools import adfuller\n",
    "\n",
    "X_SL = returns_SL['mean_SL'].values\n",
    "SL_adf = adfuller(X_SL)\n",
    "print('ADF Statistic: %f' % SL_adf[0])\n",
    "print('p-value: %f' % SL_adf[1])\n",
    "print('Critical Values:')\n",
    "for key, value in SL_adf[4].items():\n",
    "\tprint('\\t%s: %.3f' % (key, value))"
   ]
  },
  {
   "cell_type": "markdown",
   "metadata": {},
   "source": [
    "<mark>SM的ADF检验结果<mark>"
   ]
  },
  {
   "cell_type": "code",
   "execution_count": 54,
   "metadata": {},
   "outputs": [
    {
     "name": "stdout",
     "output_type": "stream",
     "text": [
      "ADF Statistic: -5.207538\n",
      "p-value: 0.000008\n",
      "Critical Values:\n",
      "\t1%: -3.546\n",
      "\t5%: -2.912\n",
      "\t10%: -2.594\n"
     ]
    }
   ],
   "source": [
    "X_SM = returns_SM['mean_SM'].values\n",
    "SM_adf = adfuller(X_SM)\n",
    "print('ADF Statistic: %f' % SM_adf[0])\n",
    "print('p-value: %f' % SM_adf[1])\n",
    "print('Critical Values:')\n",
    "for key, value in SM_adf[4].items():\n",
    "\tprint('\\t%s: %.3f' % (key, value))"
   ]
  },
  {
   "cell_type": "markdown",
   "metadata": {},
   "source": [
    "<mark>SH的ADF检验结果<mark>"
   ]
  },
  {
   "cell_type": "code",
   "execution_count": 55,
   "metadata": {},
   "outputs": [
    {
     "name": "stdout",
     "output_type": "stream",
     "text": [
      "ADF Statistic: -5.338151\n",
      "p-value: 0.000005\n",
      "Critical Values:\n",
      "\t1%: -3.546\n",
      "\t5%: -2.912\n",
      "\t10%: -2.594\n"
     ]
    }
   ],
   "source": [
    "X_SH = returns_SH['mean_SH'].values\n",
    "SH_adf = adfuller(X_SH)\n",
    "print('ADF Statistic: %f' % SH_adf[0])\n",
    "print('p-value: %f' % SH_adf[1])\n",
    "print('Critical Values:')\n",
    "for key, value in SH_adf[4].items():\n",
    "\tprint('\\t%s: %.3f' % (key, value))"
   ]
  },
  {
   "cell_type": "markdown",
   "metadata": {},
   "source": [
    "<mark>BL的ADF检验结果<mark>"
   ]
  },
  {
   "cell_type": "code",
   "execution_count": 56,
   "metadata": {},
   "outputs": [
    {
     "name": "stdout",
     "output_type": "stream",
     "text": [
      "ADF Statistic: -5.725969\n",
      "p-value: 0.000001\n",
      "Critical Values:\n",
      "\t1%: -3.548\n",
      "\t5%: -2.913\n",
      "\t10%: -2.594\n"
     ]
    }
   ],
   "source": [
    "X_BL = returns_BL['mean_BL'].values\n",
    "BL_adf = adfuller(X_BL)\n",
    "print('ADF Statistic: %f' % BL_adf[0])\n",
    "print('p-value: %f' % BL_adf[1])\n",
    "print('Critical Values:')\n",
    "for key, value in BL_adf[4].items():\n",
    "\tprint('\\t%s: %.3f' % (key, value))"
   ]
  },
  {
   "cell_type": "markdown",
   "metadata": {},
   "source": [
    "<mark>BM的ADF检验结果<mark>"
   ]
  },
  {
   "cell_type": "code",
   "execution_count": 57,
   "metadata": {},
   "outputs": [
    {
     "name": "stdout",
     "output_type": "stream",
     "text": [
      "ADF Statistic: -5.197059\n",
      "p-value: 0.000009\n",
      "Critical Values:\n",
      "\t1%: -3.548\n",
      "\t5%: -2.913\n",
      "\t10%: -2.594\n"
     ]
    }
   ],
   "source": [
    "X_BM = returns_BM['mean_BM'].values\n",
    "BM_adf = adfuller(X_BM)\n",
    "print('ADF Statistic: %f' % BM_adf[0])\n",
    "print('p-value: %f' % BM_adf[1])\n",
    "print('Critical Values:')\n",
    "for key, value in BM_adf[4].items():\n",
    "\tprint('\\t%s: %.3f' % (key, value))"
   ]
  },
  {
   "cell_type": "markdown",
   "metadata": {},
   "source": [
    "<mark>BH的ADF检验结果<mark>"
   ]
  },
  {
   "cell_type": "code",
   "execution_count": 58,
   "metadata": {},
   "outputs": [
    {
     "name": "stdout",
     "output_type": "stream",
     "text": [
      "ADF Statistic: -5.377603\n",
      "p-value: 0.000004\n",
      "Critical Values:\n",
      "\t1%: -3.546\n",
      "\t5%: -2.912\n",
      "\t10%: -2.594\n"
     ]
    }
   ],
   "source": [
    "X_BH = returns_BH['mean_BH'].values\n",
    "BH_adf = adfuller(X_BH)\n",
    "print('ADF Statistic: %f' % BH_adf[0])\n",
    "print('p-value: %f' % BH_adf[1])\n",
    "print('Critical Values:')\n",
    "for key, value in BH_adf[4].items():\n",
    "\tprint('\\t%s: %.3f' % (key, value))"
   ]
  },
  {
   "cell_type": "markdown",
   "metadata": {},
   "source": [
    "<mark>MKTRF的ADF检验结果<mark>"
   ]
  },
  {
   "cell_type": "code",
   "execution_count": 59,
   "metadata": {},
   "outputs": [
    {
     "name": "stdout",
     "output_type": "stream",
     "text": [
      "ADF Statistic: -5.490130\n",
      "p-value: 0.000002\n",
      "Critical Values:\n",
      "\t1%: -3.548\n",
      "\t5%: -2.913\n",
      "\t10%: -2.594\n"
     ]
    }
   ],
   "source": [
    "X_MKTRF = FF3['mktrf'].values\n",
    "MKTRF_adf = adfuller(X_MKTRF)\n",
    "print('ADF Statistic: %f' % MKTRF_adf[0])\n",
    "print('p-value: %f' % MKTRF_adf[1])\n",
    "print('Critical Values:')\n",
    "for key, value in MKTRF_adf[4].items():\n",
    "\tprint('\\t%s: %.3f' % (key, value))"
   ]
  },
  {
   "cell_type": "markdown",
   "metadata": {},
   "source": [
    "<mark>SMB的ADF检验结果<mark>"
   ]
  },
  {
   "cell_type": "code",
   "execution_count": 60,
   "metadata": {},
   "outputs": [
    {
     "name": "stdout",
     "output_type": "stream",
     "text": [
      "ADF Statistic: -6.582607\n",
      "p-value: 0.000000\n",
      "Critical Values:\n",
      "\t1%: -3.542\n",
      "\t5%: -2.910\n",
      "\t10%: -2.593\n"
     ]
    }
   ],
   "source": [
    "X_SMB = FF3['smb'].values\n",
    "SMB_adf = adfuller(X_SMB)\n",
    "print('ADF Statistic: %f' % SMB_adf[0])\n",
    "print('p-value: %f' % SMB_adf[1])\n",
    "print('Critical Values:')\n",
    "for key, value in SMB_adf[4].items():\n",
    "\tprint('\\t%s: %.3f' % (key, value))"
   ]
  },
  {
   "cell_type": "markdown",
   "metadata": {},
   "source": [
    "<mark>HML的ADF检验结果<mark>"
   ]
  },
  {
   "cell_type": "code",
   "execution_count": 61,
   "metadata": {},
   "outputs": [
    {
     "name": "stdout",
     "output_type": "stream",
     "text": [
      "ADF Statistic: -6.825442\n",
      "p-value: 0.000000\n",
      "Critical Values:\n",
      "\t1%: -3.542\n",
      "\t5%: -2.910\n",
      "\t10%: -2.593\n"
     ]
    }
   ],
   "source": [
    "X_HML = FF3['hml'].values\n",
    "HML_adf = adfuller(X_HML)\n",
    "print('ADF Statistic: %f' % HML_adf[0])\n",
    "print('p-value: %f' % HML_adf[1])\n",
    "print('Critical Values:')\n",
    "for key, value in HML_adf[4].items():\n",
    "\tprint('\\t%s: %.3f' % (key, value))"
   ]
  },
  {
   "cell_type": "markdown",
   "metadata": {},
   "source": [
    "### 相关性检验"
   ]
  },
  {
   "cell_type": "markdown",
   "metadata": {},
   "source": [
    "在进行回归分析之前，需要进行各个解释变量之间的相关关系检验。因为如果解释变量之间存在很强的相关关系，在进行回归分析时，可能会出现共线性的问题，影响最终的回归结果。"
   ]
  },
  {
   "cell_type": "code",
   "execution_count": 62,
   "metadata": {
    "scrolled": false
   },
   "outputs": [
    {
     "data": {
      "text/html": [
       "<div>\n",
       "<style scoped>\n",
       "    .dataframe tbody tr th:only-of-type {\n",
       "        vertical-align: middle;\n",
       "    }\n",
       "\n",
       "    .dataframe tbody tr th {\n",
       "        vertical-align: top;\n",
       "    }\n",
       "\n",
       "    .dataframe thead th {\n",
       "        text-align: right;\n",
       "    }\n",
       "</style>\n",
       "<table border=\"1\" class=\"dataframe\">\n",
       "  <thead>\n",
       "    <tr style=\"text-align: right;\">\n",
       "      <th></th>\n",
       "      <th>mktrf</th>\n",
       "      <th>smb</th>\n",
       "      <th>hml</th>\n",
       "    </tr>\n",
       "  </thead>\n",
       "  <tbody>\n",
       "    <tr>\n",
       "      <th>mktrf</th>\n",
       "      <td>1.000000</td>\n",
       "      <td>0.069396</td>\n",
       "      <td>0.496578</td>\n",
       "    </tr>\n",
       "    <tr>\n",
       "      <th>smb</th>\n",
       "      <td>0.069396</td>\n",
       "      <td>1.000000</td>\n",
       "      <td>0.528775</td>\n",
       "    </tr>\n",
       "    <tr>\n",
       "      <th>hml</th>\n",
       "      <td>0.496578</td>\n",
       "      <td>0.528775</td>\n",
       "      <td>1.000000</td>\n",
       "    </tr>\n",
       "  </tbody>\n",
       "</table>\n",
       "</div>"
      ],
      "text/plain": [
       "          mktrf       smb       hml\n",
       "mktrf  1.000000  0.069396  0.496578\n",
       "smb    0.069396  1.000000  0.528775\n",
       "hml    0.496578  0.528775  1.000000"
      ]
     },
     "execution_count": 62,
     "metadata": {},
     "output_type": "execute_result"
    }
   ],
   "source": [
    "# FF3 = FF3.drop(['rf'], axis=1)\n",
    "FF3.corr()"
   ]
  },
  {
   "cell_type": "code",
   "execution_count": 136,
   "metadata": {},
   "outputs": [
    {
     "data": {
      "image/png": "[encoded data removed]",
      "text/plain": [
       "<Figure size 432x288 with 2 Axes>"
      ]
     },
     "metadata": {
      "needs_background": "light"
     },
     "output_type": "display_data"
    }
   ],
   "source": [
    "import seaborn as sns\n",
    "import matplotlib.pyplot as plt\n",
    "# Define a nice color map for our heatmap\n",
    "cmap = sns.diverging_palette(230, 20, as_cmap=True)\n",
    "sns.heatmap(\n",
    "        data=FF3.corr(),  # our correlation matrix\n",
    "        linewidths=0.3,  # the width of lines separating the matrix squares\n",
    "        square=True,   # enforce 1:1 ratios among correlation cells\n",
    "        cmap=cmap,  # use the color map we defined above\n",
    "        vmax=1,  # define the max of our correlation scale\n",
    "        vmin=-1, # define the min of our correlation scale\n",
    "        center=0,  # The value at which the color map is centered about (white)\n",
    "        cbar_kws={\"shrink\": .75}  # shrink the scale a bit\n",
    "    )\n",
    "# adjust y-axis ticks for legibility\n",
    "plt.yticks(rotation=0)  \n",
    "# show the heatmap\n",
    "plt.show()"
   ]
  },
  {
   "cell_type": "code",
   "execution_count": 137,
   "metadata": {},
   "outputs": [],
   "source": [
    "%store -r tweets_senti"
   ]
  },
  {
   "cell_type": "code",
   "execution_count": 139,
   "metadata": {},
   "outputs": [
    {
     "name": "stdout",
     "output_type": "stream",
     "text": [
      "ADF Statistic: -5.117156\n",
      "p-value: 0.000013\n",
      "Critical Values:\n",
      "\t1%: -3.519\n",
      "\t5%: -2.900\n",
      "\t10%: -2.587\n"
     ]
    }
   ],
   "source": [
    "X_senti = tweets_senti['senti score'].values\n",
    "senti_adf = adfuller(X_senti)\n",
    "print('ADF Statistic: %f' % senti_adf[0])\n",
    "print('p-value: %f' % senti_adf[1])\n",
    "print('Critical Values:')\n",
    "for key, value in senti_adf[4].items():\n",
    "\tprint('\\t%s: %.3f' % (key, value))"
   ]
  },
  {
   "cell_type": "code",
   "execution_count": 64,
   "metadata": {},
   "outputs": [
    {
     "data": {
      "text/html": [
       "<div>\n",
       "<style scoped>\n",
       "    .dataframe tbody tr th:only-of-type {\n",
       "        vertical-align: middle;\n",
       "    }\n",
       "\n",
       "    .dataframe tbody tr th {\n",
       "        vertical-align: top;\n",
       "    }\n",
       "\n",
       "    .dataframe thead th {\n",
       "        text-align: right;\n",
       "    }\n",
       "</style>\n",
       "<table border=\"1\" class=\"dataframe\">\n",
       "  <thead>\n",
       "    <tr style=\"text-align: right;\">\n",
       "      <th></th>\n",
       "      <th>mktrf</th>\n",
       "      <th>smb</th>\n",
       "      <th>hml</th>\n",
       "      <th>senti score</th>\n",
       "    </tr>\n",
       "  </thead>\n",
       "  <tbody>\n",
       "    <tr>\n",
       "      <th>mktrf</th>\n",
       "      <td>1.000000</td>\n",
       "      <td>-0.123491</td>\n",
       "      <td>0.418544</td>\n",
       "      <td>0.376565</td>\n",
       "    </tr>\n",
       "    <tr>\n",
       "      <th>smb</th>\n",
       "      <td>-0.123491</td>\n",
       "      <td>1.000000</td>\n",
       "      <td>0.382786</td>\n",
       "      <td>-0.232257</td>\n",
       "    </tr>\n",
       "    <tr>\n",
       "      <th>hml</th>\n",
       "      <td>0.418544</td>\n",
       "      <td>0.382786</td>\n",
       "      <td>1.000000</td>\n",
       "      <td>0.117630</td>\n",
       "    </tr>\n",
       "    <tr>\n",
       "      <th>senti score</th>\n",
       "      <td>0.376565</td>\n",
       "      <td>-0.232257</td>\n",
       "      <td>0.117630</td>\n",
       "      <td>1.000000</td>\n",
       "    </tr>\n",
       "  </tbody>\n",
       "</table>\n",
       "</div>"
      ],
      "text/plain": [
       "                mktrf       smb       hml  senti score\n",
       "mktrf        1.000000 -0.123491  0.418544     0.376565\n",
       "smb         -0.123491  1.000000  0.382786    -0.232257\n",
       "hml          0.418544  0.382786  1.000000     0.117630\n",
       "senti score  0.376565 -0.232257  0.117630     1.000000"
      ]
     },
     "execution_count": 64,
     "metadata": {},
     "output_type": "execute_result"
    }
   ],
   "source": [
    "# Initial setup\n",
    "# tweets_senti= tweets_senti.set_index('date')\n",
    "FF3_senti = pd.concat([FF3, tweets_senti], axis=1)\n",
    "FF3_senti = FF3_senti.dropna()\n",
    "FF3_senti.corr()"
   ]
  },
  {
   "cell_type": "code",
   "execution_count": 146,
   "metadata": {},
   "outputs": [
    {
     "data": {
      "image/png": "[encoded data removed]",
      "text/plain": [
       "<Figure size 432x288 with 2 Axes>"
      ]
     },
     "metadata": {
      "needs_background": "light"
     },
     "output_type": "display_data"
    }
   ],
   "source": [
    "import seaborn as sns\n",
    "import matplotlib.pyplot as plt\n",
    "# Define a nice color map for our heatmap\n",
    "cmap = sns.diverging_palette(230, 20, as_cmap=True)\n",
    "sns.heatmap(\n",
    "        data=FF3_senti.corr(),  # our correlation matrix\n",
    "        linewidths=0.3,  # the width of lines separating the matrix squares\n",
    "        square=True,   # enforce 1:1 ratios among correlation cells\n",
    "        cmap=cmap,  # use the color map we defined above\n",
    "        vmax=1,  # define the max of our correlation scale\n",
    "        vmin=-1, # define the min of our correlation scale\n",
    "        center=0,  # The value at which the color map is centered about (white)\n",
    "        cbar_kws={\"shrink\": .75}  # shrink the scale a bit\n",
    "    )\n",
    "# adjust y-axis ticks for legibility\n",
    "plt.yticks(rotation=0)  \n",
    "# show the heatmap\n",
    "plt.show()"
   ]
  },
  {
   "cell_type": "markdown",
   "metadata": {},
   "source": [
    "# 回归分析"
   ]
  },
  {
   "cell_type": "markdown",
   "metadata": {},
   "source": [
    "### CAPM"
   ]
  },
  {
   "cell_type": "code",
   "execution_count": 100,
   "metadata": {},
   "outputs": [],
   "source": [
    "import statsmodels.api as sm"
   ]
  },
  {
   "cell_type": "code",
   "execution_count": 101,
   "metadata": {},
   "outputs": [
    {
     "data": {
      "text/html": [
       "<div>\n",
       "<style scoped>\n",
       "    .dataframe tbody tr th:only-of-type {\n",
       "        vertical-align: middle;\n",
       "    }\n",
       "\n",
       "    .dataframe tbody tr th {\n",
       "        vertical-align: top;\n",
       "    }\n",
       "\n",
       "    .dataframe thead th {\n",
       "        text-align: right;\n",
       "    }\n",
       "</style>\n",
       "<table border=\"1\" class=\"dataframe\">\n",
       "  <thead>\n",
       "    <tr style=\"text-align: right;\">\n",
       "      <th></th>\n",
       "      <th>mktrf</th>\n",
       "    </tr>\n",
       "    <tr>\n",
       "      <th>Date</th>\n",
       "      <th></th>\n",
       "    </tr>\n",
       "  </thead>\n",
       "  <tbody>\n",
       "    <tr>\n",
       "      <th>2020-04-14</th>\n",
       "      <td>0.030466</td>\n",
       "    </tr>\n",
       "    <tr>\n",
       "      <th>2020-04-15</th>\n",
       "      <td>-0.022137</td>\n",
       "    </tr>\n",
       "    <tr>\n",
       "      <th>2020-04-16</th>\n",
       "      <td>0.005710</td>\n",
       "    </tr>\n",
       "    <tr>\n",
       "      <th>2020-04-17</th>\n",
       "      <td>0.026687</td>\n",
       "    </tr>\n",
       "    <tr>\n",
       "      <th>2020-04-20</th>\n",
       "      <td>-0.017987</td>\n",
       "    </tr>\n",
       "  </tbody>\n",
       "</table>\n",
       "</div>"
      ],
      "text/plain": [
       "               mktrf\n",
       "Date                \n",
       "2020-04-14  0.030466\n",
       "2020-04-15 -0.022137\n",
       "2020-04-16  0.005710\n",
       "2020-04-17  0.026687\n",
       "2020-04-20 -0.017987"
      ]
     },
     "execution_count": 101,
     "metadata": {},
     "output_type": "execute_result"
    }
   ],
   "source": [
    "CAPM = FF3[['mktrf']]\n",
    "CAPM.head()"
   ]
  },
  {
   "cell_type": "code",
   "execution_count": 102,
   "metadata": {},
   "outputs": [
    {
     "data": {
      "text/html": [
       "<div>\n",
       "<style scoped>\n",
       "    .dataframe tbody tr th:only-of-type {\n",
       "        vertical-align: middle;\n",
       "    }\n",
       "\n",
       "    .dataframe tbody tr th {\n",
       "        vertical-align: top;\n",
       "    }\n",
       "\n",
       "    .dataframe thead th {\n",
       "        text-align: right;\n",
       "    }\n",
       "</style>\n",
       "<table border=\"1\" class=\"dataframe\">\n",
       "  <thead>\n",
       "    <tr style=\"text-align: right;\">\n",
       "      <th></th>\n",
       "      <th>mktrf</th>\n",
       "      <th>mean_SL</th>\n",
       "      <th>mean_SM</th>\n",
       "      <th>mean_SH</th>\n",
       "      <th>mean_BL</th>\n",
       "      <th>mean_BM</th>\n",
       "      <th>mean_BH</th>\n",
       "    </tr>\n",
       "    <tr>\n",
       "      <th>Date</th>\n",
       "      <th></th>\n",
       "      <th></th>\n",
       "      <th></th>\n",
       "      <th></th>\n",
       "      <th></th>\n",
       "      <th></th>\n",
       "      <th></th>\n",
       "    </tr>\n",
       "  </thead>\n",
       "  <tbody>\n",
       "    <tr>\n",
       "      <th>2020-04-14</th>\n",
       "      <td>0.030466</td>\n",
       "      <td>0.032104</td>\n",
       "      <td>0.022628</td>\n",
       "      <td>0.013670</td>\n",
       "      <td>0.038218</td>\n",
       "      <td>0.025923</td>\n",
       "      <td>0.019033</td>\n",
       "    </tr>\n",
       "    <tr>\n",
       "      <th>2020-04-15</th>\n",
       "      <td>-0.022137</td>\n",
       "      <td>-0.022005</td>\n",
       "      <td>-0.039226</td>\n",
       "      <td>-0.050879</td>\n",
       "      <td>-0.019263</td>\n",
       "      <td>-0.026897</td>\n",
       "      <td>-0.041408</td>\n",
       "    </tr>\n",
       "    <tr>\n",
       "      <th>2020-04-16</th>\n",
       "      <td>0.005710</td>\n",
       "      <td>0.012178</td>\n",
       "      <td>-0.005699</td>\n",
       "      <td>-0.019992</td>\n",
       "      <td>0.004462</td>\n",
       "      <td>-0.000193</td>\n",
       "      <td>-0.018810</td>\n",
       "    </tr>\n",
       "    <tr>\n",
       "      <th>2020-04-17</th>\n",
       "      <td>0.026687</td>\n",
       "      <td>0.027919</td>\n",
       "      <td>0.045479</td>\n",
       "      <td>0.052608</td>\n",
       "      <td>0.031259</td>\n",
       "      <td>0.040536</td>\n",
       "      <td>0.056939</td>\n",
       "    </tr>\n",
       "    <tr>\n",
       "      <th>2020-04-20</th>\n",
       "      <td>-0.017987</td>\n",
       "      <td>-0.014134</td>\n",
       "      <td>-0.023265</td>\n",
       "      <td>-0.023464</td>\n",
       "      <td>-0.017420</td>\n",
       "      <td>-0.019327</td>\n",
       "      <td>-0.029296</td>\n",
       "    </tr>\n",
       "  </tbody>\n",
       "</table>\n",
       "</div>"
      ],
      "text/plain": [
       "               mktrf   mean_SL   mean_SM   mean_SH   mean_BL   mean_BM  \\\n",
       "Date                                                                     \n",
       "2020-04-14  0.030466  0.032104  0.022628  0.013670  0.038218  0.025923   \n",
       "2020-04-15 -0.022137 -0.022005 -0.039226 -0.050879 -0.019263 -0.026897   \n",
       "2020-04-16  0.005710  0.012178 -0.005699 -0.019992  0.004462 -0.000193   \n",
       "2020-04-17  0.026687  0.027919  0.045479  0.052608  0.031259  0.040536   \n",
       "2020-04-20 -0.017987 -0.014134 -0.023265 -0.023464 -0.017420 -0.019327   \n",
       "\n",
       "             mean_BH  \n",
       "Date                  \n",
       "2020-04-14  0.019033  \n",
       "2020-04-15 -0.041408  \n",
       "2020-04-16 -0.018810  \n",
       "2020-04-17  0.056939  \n",
       "2020-04-20 -0.029296  "
      ]
     },
     "execution_count": 102,
     "metadata": {},
     "output_type": "execute_result"
    }
   ],
   "source": [
    "# Initial setup\n",
    "CAPM_ret = pd.concat([CAPM, \n",
    "                      avgret_SL-rf_daily, \n",
    "                      avgret_SM-rf_daily, \n",
    "                      avgret_SH-rf_daily, \n",
    "                      avgret_BL-rf_daily, \n",
    "                      avgret_BM-rf_daily, \n",
    "                      avgret_BH-rf_daily], axis=1)\n",
    "CAPM_ret = CAPM_ret.dropna()\n",
    "CAPM_ret.head()"
   ]
  },
  {
   "cell_type": "code",
   "execution_count": 103,
   "metadata": {
    "scrolled": false
   },
   "outputs": [
    {
     "name": "stdout",
     "output_type": "stream",
     "text": [
      "                            OLS Regression Results                            \n",
      "==============================================================================\n",
      "Dep. Variable:                mean_SL   R-squared:                       0.926\n",
      "Model:                            OLS   Adj. R-squared:                  0.924\n",
      "Method:                 Least Squares   F-statistic:                     746.6\n",
      "Date:                Sat, 03 Sep 2022   Prob (F-statistic):           1.49e-35\n",
      "Time:                        11:45:28   Log-Likelihood:                 245.75\n",
      "No. Observations:                  62   AIC:                            -487.5\n",
      "Df Residuals:                      60   BIC:                            -483.2\n",
      "Df Model:                           1                                         \n",
      "Covariance Type:            nonrobust                                         \n",
      "==============================================================================\n",
      "                 coef    std err          t      P>|t|      [0.025      0.975]\n",
      "------------------------------------------------------------------------------\n",
      "const          0.0012      0.001      2.016      0.048    9.47e-06       0.002\n",
      "mktrf          0.9872      0.036     27.324      0.000       0.915       1.059\n",
      "==============================================================================\n",
      "Omnibus:                        0.273   Durbin-Watson:                   1.959\n",
      "Prob(Omnibus):                  0.872   Jarque-Bera (JB):                0.300\n",
      "Skew:                           0.148   Prob(JB):                        0.861\n",
      "Kurtosis:                       2.831   Cond. No.                         60.9\n",
      "==============================================================================\n",
      "\n",
      "Warnings:\n",
      "[1] Standard Errors assume that the covariance matrix of the errors is correctly specified.\n"
     ]
    }
   ],
   "source": [
    "X = CAPM_ret[['mktrf']]\n",
    "y = CAPM_ret['mean_SL']\n",
    "X = sm.add_constant(X)\n",
    "CAPM_model = sm.OLS(y, X).fit()\n",
    "print(CAPM_model.summary())\n",
    "intercept, b1 = CAPM_model.params"
   ]
  },
  {
   "cell_type": "code",
   "execution_count": 104,
   "metadata": {},
   "outputs": [
    {
     "name": "stdout",
     "output_type": "stream",
     "text": [
      "                            OLS Regression Results                            \n",
      "==============================================================================\n",
      "Dep. Variable:                mean_SM   R-squared:                       0.835\n",
      "Model:                            OLS   Adj. R-squared:                  0.833\n",
      "Method:                 Least Squares   F-statistic:                     304.2\n",
      "Date:                Sat, 03 Sep 2022   Prob (F-statistic):           3.57e-25\n",
      "Time:                        11:45:29   Log-Likelihood:                 204.54\n",
      "No. Observations:                  62   AIC:                            -405.1\n",
      "Df Residuals:                      60   BIC:                            -400.8\n",
      "Df Model:                           1                                         \n",
      "Covariance Type:            nonrobust                                         \n",
      "==============================================================================\n",
      "                 coef    std err          t      P>|t|      [0.025      0.975]\n",
      "------------------------------------------------------------------------------\n",
      "const         -0.0003      0.001     -0.238      0.813      -0.003       0.002\n",
      "mktrf          1.2251      0.070     17.442      0.000       1.085       1.366\n",
      "==============================================================================\n",
      "Omnibus:                        5.236   Durbin-Watson:                   1.649\n",
      "Prob(Omnibus):                  0.073   Jarque-Bera (JB):                4.326\n",
      "Skew:                           0.608   Prob(JB):                        0.115\n",
      "Kurtosis:                       3.443   Cond. No.                         60.9\n",
      "==============================================================================\n",
      "\n",
      "Warnings:\n",
      "[1] Standard Errors assume that the covariance matrix of the errors is correctly specified.\n"
     ]
    }
   ],
   "source": [
    "X = CAPM_ret[['mktrf']]\n",
    "y = CAPM_ret['mean_SM']\n",
    "X = sm.add_constant(X)\n",
    "CAPM_model = sm.OLS(y, X).fit()\n",
    "print(CAPM_model.summary())\n",
    "intercept, b1 = CAPM_model.params"
   ]
  },
  {
   "cell_type": "code",
   "execution_count": 105,
   "metadata": {},
   "outputs": [
    {
     "name": "stdout",
     "output_type": "stream",
     "text": [
      "                            OLS Regression Results                            \n",
      "==============================================================================\n",
      "Dep. Variable:                mean_SH   R-squared:                       0.727\n",
      "Model:                            OLS   Adj. R-squared:                  0.722\n",
      "Method:                 Least Squares   F-statistic:                     159.5\n",
      "Date:                Sat, 03 Sep 2022   Prob (F-statistic):           1.50e-18\n",
      "Time:                        11:45:29   Log-Likelihood:                 172.31\n",
      "No. Observations:                  62   AIC:                            -340.6\n",
      "Df Residuals:                      60   BIC:                            -336.4\n",
      "Df Model:                           1                                         \n",
      "Covariance Type:            nonrobust                                         \n",
      "==============================================================================\n",
      "                 coef    std err          t      P>|t|      [0.025      0.975]\n",
      "------------------------------------------------------------------------------\n",
      "const         -0.0021      0.002     -1.093      0.279      -0.006       0.002\n",
      "mktrf          1.4920      0.118     12.631      0.000       1.256       1.728\n",
      "==============================================================================\n",
      "Omnibus:                        1.021   Durbin-Watson:                   1.766\n",
      "Prob(Omnibus):                  0.600   Jarque-Bera (JB):                1.081\n",
      "Skew:                           0.278   Prob(JB):                        0.583\n",
      "Kurtosis:                       2.668   Cond. No.                         60.9\n",
      "==============================================================================\n",
      "\n",
      "Warnings:\n",
      "[1] Standard Errors assume that the covariance matrix of the errors is correctly specified.\n"
     ]
    }
   ],
   "source": [
    "X = CAPM_ret[['mktrf']]\n",
    "y = CAPM_ret['mean_SH']\n",
    "X = sm.add_constant(X)\n",
    "CAPM_model = sm.OLS(y, X).fit()\n",
    "print(CAPM_model.summary())\n",
    "intercept, b1 = CAPM_model.params"
   ]
  },
  {
   "cell_type": "code",
   "execution_count": 106,
   "metadata": {},
   "outputs": [
    {
     "name": "stdout",
     "output_type": "stream",
     "text": [
      "                            OLS Regression Results                            \n",
      "==============================================================================\n",
      "Dep. Variable:                mean_BL   R-squared:                       0.979\n",
      "Model:                            OLS   Adj. R-squared:                  0.979\n",
      "Method:                 Least Squares   F-statistic:                     2834.\n",
      "Date:                Sat, 03 Sep 2022   Prob (F-statistic):           3.29e-52\n",
      "Time:                        11:45:30   Log-Likelihood:                 283.12\n",
      "No. Observations:                  62   AIC:                            -562.2\n",
      "Df Residuals:                      60   BIC:                            -558.0\n",
      "Df Model:                           1                                         \n",
      "Covariance Type:            nonrobust                                         \n",
      "==============================================================================\n",
      "                 coef    std err          t      P>|t|      [0.025      0.975]\n",
      "------------------------------------------------------------------------------\n",
      "const          0.0009      0.000      2.659      0.010       0.000       0.002\n",
      "mktrf          1.0526      0.020     53.232      0.000       1.013       1.092\n",
      "==============================================================================\n",
      "Omnibus:                        4.285   Durbin-Watson:                   1.847\n",
      "Prob(Omnibus):                  0.117   Jarque-Bera (JB):                2.342\n",
      "Skew:                           0.222   Prob(JB):                        0.310\n",
      "Kurtosis:                       2.158   Cond. No.                         60.9\n",
      "==============================================================================\n",
      "\n",
      "Warnings:\n",
      "[1] Standard Errors assume that the covariance matrix of the errors is correctly specified.\n"
     ]
    }
   ],
   "source": [
    "X = CAPM_ret[['mktrf']]\n",
    "y = CAPM_ret['mean_BL']\n",
    "X = sm.add_constant(X)\n",
    "CAPM_model = sm.OLS(y, X).fit()\n",
    "print(CAPM_model.summary())\n",
    "intercept, b1 = CAPM_model.params"
   ]
  },
  {
   "cell_type": "code",
   "execution_count": 107,
   "metadata": {},
   "outputs": [
    {
     "name": "stdout",
     "output_type": "stream",
     "text": [
      "                            OLS Regression Results                            \n",
      "==============================================================================\n",
      "Dep. Variable:                mean_BM   R-squared:                       0.951\n",
      "Model:                            OLS   Adj. R-squared:                  0.951\n",
      "Method:                 Least Squares   F-statistic:                     1174.\n",
      "Date:                Sat, 03 Sep 2022   Prob (F-statistic):           4.24e-41\n",
      "Time:                        11:45:30   Log-Likelihood:                 251.77\n",
      "No. Observations:                  62   AIC:                            -499.5\n",
      "Df Residuals:                      60   BIC:                            -495.3\n",
      "Df Model:                           1                                         \n",
      "Covariance Type:            nonrobust                                         \n",
      "==============================================================================\n",
      "                 coef    std err          t      P>|t|      [0.025      0.975]\n",
      "------------------------------------------------------------------------------\n",
      "const         -0.0001      0.001     -0.238      0.813      -0.001       0.001\n",
      "mktrf          1.1235      0.033     34.263      0.000       1.058       1.189\n",
      "==============================================================================\n",
      "Omnibus:                        1.974   Durbin-Watson:                   1.909\n",
      "Prob(Omnibus):                  0.373   Jarque-Bera (JB):                1.250\n",
      "Skew:                           0.304   Prob(JB):                        0.535\n",
      "Kurtosis:                       3.338   Cond. No.                         60.9\n",
      "==============================================================================\n",
      "\n",
      "Warnings:\n",
      "[1] Standard Errors assume that the covariance matrix of the errors is correctly specified.\n"
     ]
    }
   ],
   "source": [
    "X = CAPM_ret[['mktrf']]\n",
    "y = CAPM_ret['mean_BM']\n",
    "X = sm.add_constant(X)\n",
    "CAPM_model = sm.OLS(y, X).fit()\n",
    "print(CAPM_model.summary())\n",
    "intercept, b1 = CAPM_model.params"
   ]
  },
  {
   "cell_type": "code",
   "execution_count": 108,
   "metadata": {},
   "outputs": [
    {
     "name": "stdout",
     "output_type": "stream",
     "text": [
      "                            OLS Regression Results                            \n",
      "==============================================================================\n",
      "Dep. Variable:                mean_BH   R-squared:                       0.779\n",
      "Model:                            OLS   Adj. R-squared:                  0.776\n",
      "Method:                 Least Squares   F-statistic:                     212.0\n",
      "Date:                Sat, 03 Sep 2022   Prob (F-statistic):           2.36e-21\n",
      "Time:                        11:45:31   Log-Likelihood:                 178.13\n",
      "No. Observations:                  62   AIC:                            -352.3\n",
      "Df Residuals:                      60   BIC:                            -348.0\n",
      "Df Model:                           1                                         \n",
      "Covariance Type:            nonrobust                                         \n",
      "==============================================================================\n",
      "                 coef    std err          t      P>|t|      [0.025      0.975]\n",
      "------------------------------------------------------------------------------\n",
      "const         -0.0017      0.002     -0.948      0.347      -0.005       0.002\n",
      "mktrf          1.5656      0.108     14.559      0.000       1.351       1.781\n",
      "==============================================================================\n",
      "Omnibus:                        0.943   Durbin-Watson:                   1.817\n",
      "Prob(Omnibus):                  0.624   Jarque-Bera (JB):                1.002\n",
      "Skew:                           0.270   Prob(JB):                        0.606\n",
      "Kurtosis:                       2.688   Cond. No.                         60.9\n",
      "==============================================================================\n",
      "\n",
      "Warnings:\n",
      "[1] Standard Errors assume that the covariance matrix of the errors is correctly specified.\n"
     ]
    }
   ],
   "source": [
    "X = CAPM_ret[['mktrf']]\n",
    "y = CAPM_ret['mean_BH']\n",
    "X = sm.add_constant(X)\n",
    "CAPM_model = sm.OLS(y, X).fit()\n",
    "print(CAPM_model.summary())\n",
    "intercept, b1 = CAPM_model.params"
   ]
  },
  {
   "cell_type": "markdown",
   "metadata": {},
   "source": [
    "### CAPM_Senti"
   ]
  },
  {
   "cell_type": "code",
   "execution_count": 140,
   "metadata": {},
   "outputs": [],
   "source": [
    "%store -r tweets_senti"
   ]
  },
  {
   "cell_type": "code",
   "execution_count": 141,
   "metadata": {
    "scrolled": true
   },
   "outputs": [
    {
     "data": {
      "text/html": [
       "<div>\n",
       "<style scoped>\n",
       "    .dataframe tbody tr th:only-of-type {\n",
       "        vertical-align: middle;\n",
       "    }\n",
       "\n",
       "    .dataframe tbody tr th {\n",
       "        vertical-align: top;\n",
       "    }\n",
       "\n",
       "    .dataframe thead th {\n",
       "        text-align: right;\n",
       "    }\n",
       "</style>\n",
       "<table border=\"1\" class=\"dataframe\">\n",
       "  <thead>\n",
       "    <tr style=\"text-align: right;\">\n",
       "      <th></th>\n",
       "      <th>senti score</th>\n",
       "    </tr>\n",
       "    <tr>\n",
       "      <th>date</th>\n",
       "      <th></th>\n",
       "    </tr>\n",
       "  </thead>\n",
       "  <tbody>\n",
       "    <tr>\n",
       "      <th>2020-04-09</th>\n",
       "      <td>0.357220</td>\n",
       "    </tr>\n",
       "    <tr>\n",
       "      <th>2020-04-10</th>\n",
       "      <td>0.356228</td>\n",
       "    </tr>\n",
       "    <tr>\n",
       "      <th>2020-04-11</th>\n",
       "      <td>0.453090</td>\n",
       "    </tr>\n",
       "    <tr>\n",
       "      <th>2020-04-12</th>\n",
       "      <td>0.409756</td>\n",
       "    </tr>\n",
       "    <tr>\n",
       "      <th>2020-04-13</th>\n",
       "      <td>0.434693</td>\n",
       "    </tr>\n",
       "  </tbody>\n",
       "</table>\n",
       "</div>"
      ],
      "text/plain": [
       "            senti score\n",
       "date                   \n",
       "2020-04-09     0.357220\n",
       "2020-04-10     0.356228\n",
       "2020-04-11     0.453090\n",
       "2020-04-12     0.409756\n",
       "2020-04-13     0.434693"
      ]
     },
     "execution_count": 141,
     "metadata": {},
     "output_type": "execute_result"
    }
   ],
   "source": [
    "# tweets_senti = tweets_senti.set_index('date')\n",
    "tweets_senti.head()"
   ]
  },
  {
   "cell_type": "code",
   "execution_count": null,
   "metadata": {},
   "outputs": [],
   "source": []
  },
  {
   "cell_type": "code",
   "execution_count": 144,
   "metadata": {},
   "outputs": [
    {
     "data": {
      "text/html": [
       "<div>\n",
       "<style scoped>\n",
       "    .dataframe tbody tr th:only-of-type {\n",
       "        vertical-align: middle;\n",
       "    }\n",
       "\n",
       "    .dataframe tbody tr th {\n",
       "        vertical-align: top;\n",
       "    }\n",
       "\n",
       "    .dataframe thead th {\n",
       "        text-align: right;\n",
       "    }\n",
       "</style>\n",
       "<table border=\"1\" class=\"dataframe\">\n",
       "  <thead>\n",
       "    <tr style=\"text-align: right;\">\n",
       "      <th></th>\n",
       "      <th>mktrf</th>\n",
       "      <th>senti score</th>\n",
       "    </tr>\n",
       "  </thead>\n",
       "  <tbody>\n",
       "    <tr>\n",
       "      <th>2020-04-14</th>\n",
       "      <td>0.030466</td>\n",
       "      <td>0.450438</td>\n",
       "    </tr>\n",
       "    <tr>\n",
       "      <th>2020-04-15</th>\n",
       "      <td>-0.022137</td>\n",
       "      <td>0.412081</td>\n",
       "    </tr>\n",
       "    <tr>\n",
       "      <th>2020-04-16</th>\n",
       "      <td>0.005710</td>\n",
       "      <td>0.434884</td>\n",
       "    </tr>\n",
       "    <tr>\n",
       "      <th>2020-04-17</th>\n",
       "      <td>0.026687</td>\n",
       "      <td>0.419058</td>\n",
       "    </tr>\n",
       "    <tr>\n",
       "      <th>2020-04-20</th>\n",
       "      <td>-0.017987</td>\n",
       "      <td>0.352074</td>\n",
       "    </tr>\n",
       "  </tbody>\n",
       "</table>\n",
       "</div>"
      ],
      "text/plain": [
       "               mktrf  senti score\n",
       "2020-04-14  0.030466     0.450438\n",
       "2020-04-15 -0.022137     0.412081\n",
       "2020-04-16  0.005710     0.434884\n",
       "2020-04-17  0.026687     0.419058\n",
       "2020-04-20 -0.017987     0.352074"
      ]
     },
     "execution_count": 144,
     "metadata": {},
     "output_type": "execute_result"
    }
   ],
   "source": [
    "CAPM_senti = pd.concat([CAPM, tweets_senti], axis=1)\n",
    "CAPM_senti = CAPM_senti.dropna()\n",
    "CAPM_senti.head()"
   ]
  },
  {
   "cell_type": "code",
   "execution_count": 145,
   "metadata": {},
   "outputs": [
    {
     "data": {
      "image/png": "[encoded data removed]",
      "text/plain": [
       "<Figure size 432x288 with 2 Axes>"
      ]
     },
     "metadata": {
      "needs_background": "light"
     },
     "output_type": "display_data"
    }
   ],
   "source": [
    "import seaborn as sns\n",
    "import matplotlib.pyplot as plt\n",
    "# Define a nice color map for our heatmap\n",
    "cmap = sns.diverging_palette(230, 20, as_cmap=True)\n",
    "sns.heatmap(\n",
    "        data=CAPM_senti.corr(),  # our correlation matrix\n",
    "        linewidths=0.3,  # the width of lines separating the matrix squares\n",
    "        square=True,   # enforce 1:1 ratios among correlation cells\n",
    "        cmap=cmap,  # use the color map we defined above\n",
    "        vmax=1,  # define the max of our correlation scale\n",
    "        vmin=-1, # define the min of our correlation scale\n",
    "        center=0,  # The value at which the color map is centered about (white)\n",
    "        cbar_kws={\"shrink\": .75}  # shrink the scale a bit\n",
    "    )\n",
    "# adjust y-axis ticks for legibility\n",
    "plt.yticks(rotation=0)  \n",
    "# show the heatmap\n",
    "plt.show()"
   ]
  },
  {
   "cell_type": "code",
   "execution_count": 111,
   "metadata": {},
   "outputs": [
    {
     "data": {
      "text/html": [
       "<div>\n",
       "<style scoped>\n",
       "    .dataframe tbody tr th:only-of-type {\n",
       "        vertical-align: middle;\n",
       "    }\n",
       "\n",
       "    .dataframe tbody tr th {\n",
       "        vertical-align: top;\n",
       "    }\n",
       "\n",
       "    .dataframe thead th {\n",
       "        text-align: right;\n",
       "    }\n",
       "</style>\n",
       "<table border=\"1\" class=\"dataframe\">\n",
       "  <thead>\n",
       "    <tr style=\"text-align: right;\">\n",
       "      <th></th>\n",
       "      <th>mktrf</th>\n",
       "      <th>senti score</th>\n",
       "      <th>mean_SL</th>\n",
       "      <th>mean_SM</th>\n",
       "      <th>mean_SH</th>\n",
       "      <th>mean_BL</th>\n",
       "      <th>mean_BM</th>\n",
       "      <th>mean_BH</th>\n",
       "    </tr>\n",
       "  </thead>\n",
       "  <tbody>\n",
       "    <tr>\n",
       "      <th>2020-04-14</th>\n",
       "      <td>0.030466</td>\n",
       "      <td>0.450438</td>\n",
       "      <td>0.032211</td>\n",
       "      <td>0.022734</td>\n",
       "      <td>0.013777</td>\n",
       "      <td>0.038324</td>\n",
       "      <td>0.026030</td>\n",
       "      <td>0.019139</td>\n",
       "    </tr>\n",
       "    <tr>\n",
       "      <th>2020-04-15</th>\n",
       "      <td>-0.022137</td>\n",
       "      <td>0.412081</td>\n",
       "      <td>-0.021899</td>\n",
       "      <td>-0.039120</td>\n",
       "      <td>-0.050773</td>\n",
       "      <td>-0.019157</td>\n",
       "      <td>-0.026791</td>\n",
       "      <td>-0.041301</td>\n",
       "    </tr>\n",
       "    <tr>\n",
       "      <th>2020-04-16</th>\n",
       "      <td>0.005710</td>\n",
       "      <td>0.434884</td>\n",
       "      <td>0.012285</td>\n",
       "      <td>-0.005593</td>\n",
       "      <td>-0.019885</td>\n",
       "      <td>0.004569</td>\n",
       "      <td>-0.000086</td>\n",
       "      <td>-0.018704</td>\n",
       "    </tr>\n",
       "    <tr>\n",
       "      <th>2020-04-17</th>\n",
       "      <td>0.026687</td>\n",
       "      <td>0.419058</td>\n",
       "      <td>0.028025</td>\n",
       "      <td>0.045585</td>\n",
       "      <td>0.052714</td>\n",
       "      <td>0.031365</td>\n",
       "      <td>0.040643</td>\n",
       "      <td>0.057045</td>\n",
       "    </tr>\n",
       "    <tr>\n",
       "      <th>2020-04-20</th>\n",
       "      <td>-0.017987</td>\n",
       "      <td>0.352074</td>\n",
       "      <td>-0.014028</td>\n",
       "      <td>-0.023158</td>\n",
       "      <td>-0.023357</td>\n",
       "      <td>-0.017314</td>\n",
       "      <td>-0.019220</td>\n",
       "      <td>-0.029190</td>\n",
       "    </tr>\n",
       "  </tbody>\n",
       "</table>\n",
       "</div>"
      ],
      "text/plain": [
       "               mktrf  senti score   mean_SL   mean_SM   mean_SH   mean_BL  \\\n",
       "2020-04-14  0.030466     0.450438  0.032211  0.022734  0.013777  0.038324   \n",
       "2020-04-15 -0.022137     0.412081 -0.021899 -0.039120 -0.050773 -0.019157   \n",
       "2020-04-16  0.005710     0.434884  0.012285 -0.005593 -0.019885  0.004569   \n",
       "2020-04-17  0.026687     0.419058  0.028025  0.045585  0.052714  0.031365   \n",
       "2020-04-20 -0.017987     0.352074 -0.014028 -0.023158 -0.023357 -0.017314   \n",
       "\n",
       "             mean_BM   mean_BH  \n",
       "2020-04-14  0.026030  0.019139  \n",
       "2020-04-15 -0.026791 -0.041301  \n",
       "2020-04-16 -0.000086 -0.018704  \n",
       "2020-04-17  0.040643  0.057045  \n",
       "2020-04-20 -0.019220 -0.029190  "
      ]
     },
     "execution_count": 111,
     "metadata": {},
     "output_type": "execute_result"
    }
   ],
   "source": [
    "# Initial setup\n",
    "CAPM_senti_ret = pd.concat([CAPM, tweets_senti, avgret_SL, avgret_SM, avgret_SH, avgret_BL, avgret_BM, avgret_BH], axis=1)\n",
    "CAPM_senti_ret = CAPM_senti_ret.dropna()\n",
    "CAPM_senti_ret.head()"
   ]
  },
  {
   "cell_type": "code",
   "execution_count": 151,
   "metadata": {},
   "outputs": [
    {
     "name": "stdout",
     "output_type": "stream",
     "text": [
      "\n",
      "Granger Causality\n",
      "number of lags (no zero) 1\n",
      "ssr based F test:         F=1.6564  , p=0.2050  , df_denom=43, df_num=1\n",
      "ssr based chi2 test:   chi2=1.7719  , p=0.1831  , df=1\n",
      "likelihood ratio test: chi2=1.7386  , p=0.1873  , df=1\n",
      "parameter F test:         F=1.6564  , p=0.2050  , df_denom=43, df_num=1\n",
      "\n",
      "Granger Causality\n",
      "number of lags (no zero) 2\n",
      "ssr based F test:         F=5.1994  , p=0.0098  , df_denom=40, df_num=2\n",
      "ssr based chi2 test:   chi2=11.6987 , p=0.0029  , df=2\n",
      "likelihood ratio test: chi2=10.3990 , p=0.0055  , df=2\n",
      "parameter F test:         F=5.1994  , p=0.0098  , df_denom=40, df_num=2\n"
     ]
    },
    {
     "data": {
      "text/plain": [
       "{1: ({'ssr_ftest': (1.6563604315107672, 0.2049806144372506, 43.0, 1),\n",
       "   'ssr_chi2test': (1.7719204616161695, 0.18314458527080973, 1),\n",
       "   'lrtest': (1.7386450884443434, 0.18731059459306168, 1),\n",
       "   'params_ftest': (1.6563604315107607, 0.2049806144372541, 43.0, 1.0)},\n",
       "  [<statsmodels.regression.linear_model.RegressionResultsWrapper at 0x7fbb41a49280>,\n",
       "   <statsmodels.regression.linear_model.RegressionResultsWrapper at 0x7fbb418a70d0>,\n",
       "   array([[0., 1., 0.]])]),\n",
       " 2: ({'ssr_ftest': (5.199417148083661, 0.009835354008432839, 40.0, 2),\n",
       "   'ssr_chi2test': (11.698688583188238, 0.0028817881514210126, 2),\n",
       "   'lrtest': (10.39898662432222, 0.005519360305125715, 2),\n",
       "   'params_ftest': (5.199417148083655, 0.009835354008432894, 40.0, 2.0)},\n",
       "  [<statsmodels.regression.linear_model.RegressionResultsWrapper at 0x7fbb421c6a00>,\n",
       "   <statsmodels.regression.linear_model.RegressionResultsWrapper at 0x7fbb421c6730>,\n",
       "   array([[0., 0., 1., 0., 0.],\n",
       "          [0., 0., 0., 1., 0.]])])}"
      ]
     },
     "execution_count": 151,
     "metadata": {},
     "output_type": "execute_result"
    }
   ],
   "source": [
    "from statsmodels.tsa.stattools import grangercausalitytests\n",
    "grangercausalitytests(CAPM_senti_ret[['mean_SL', 'mktrf']], maxlag=2)"
   ]
  },
  {
   "cell_type": "code",
   "execution_count": 149,
   "metadata": {
    "collapsed": true
   },
   "outputs": [
    {
     "name": "stdout",
     "output_type": "stream",
     "text": [
      "\n",
      "Granger Causality\n",
      "number of lags (no zero) 1\n",
      "ssr based F test:         F=2.0620  , p=0.1582  , df_denom=43, df_num=1\n",
      "ssr based chi2 test:   chi2=2.2059  , p=0.1375  , df=1\n",
      "likelihood ratio test: chi2=2.1546  , p=0.1421  , df=1\n",
      "parameter F test:         F=2.0620  , p=0.1582  , df_denom=43, df_num=1\n",
      "\n",
      "Granger Causality\n",
      "number of lags (no zero) 2\n",
      "ssr based F test:         F=1.5055  , p=0.2342  , df_denom=40, df_num=2\n",
      "ssr based chi2 test:   chi2=3.3874  , p=0.1838  , df=2\n",
      "likelihood ratio test: chi2=3.2659  , p=0.1954  , df=2\n",
      "parameter F test:         F=1.5055  , p=0.2342  , df_denom=40, df_num=2\n"
     ]
    },
    {
     "data": {
      "text/plain": [
       "{1: ({'ssr_ftest': (2.0620354949585438, 0.15824380554292103, 43.0, 1),\n",
       "   'ssr_chi2test': (2.2058984364672796, 0.13748377376933693, 1),\n",
       "   'lrtest': (2.154639598922074, 0.14213979195116877, 1),\n",
       "   'params_ftest': (2.062035494958543, 0.15824380554292103, 43.0, 1.0)},\n",
       "  [<statsmodels.regression.linear_model.RegressionResultsWrapper at 0x7fbb421d4a60>,\n",
       "   <statsmodels.regression.linear_model.RegressionResultsWrapper at 0x7fbb421d4a30>,\n",
       "   array([[0., 1., 0.]])]),\n",
       " 2: ({'ssr_ftest': (1.5054904991051035, 0.23421400727349653, 40.0, 2),\n",
       "   'ssr_chi2test': (3.387353622986483, 0.18384232621364988, 2),\n",
       "   'lrtest': (3.2659200463110096, 0.1953504755460755, 2),\n",
       "   'params_ftest': (1.5054904991051083, 0.23421400727349542, 40.0, 2.0)},\n",
       "  [<statsmodels.regression.linear_model.RegressionResultsWrapper at 0x7fbb421d4ac0>,\n",
       "   <statsmodels.regression.linear_model.RegressionResultsWrapper at 0x7fbb421d4190>,\n",
       "   array([[0., 0., 1., 0., 0.],\n",
       "          [0., 0., 0., 1., 0.]])])}"
      ]
     },
     "execution_count": 149,
     "metadata": {},
     "output_type": "execute_result"
    }
   ],
   "source": [
    "from statsmodels.tsa.stattools import grangercausalitytests\n",
    "grangercausalitytests(CAPM_senti_ret[['mean_SM', 'senti score']], maxlag=2)"
   ]
  },
  {
   "cell_type": "code",
   "execution_count": 150,
   "metadata": {
    "collapsed": true
   },
   "outputs": [
    {
     "name": "stdout",
     "output_type": "stream",
     "text": [
      "\n",
      "Granger Causality\n",
      "number of lags (no zero) 1\n",
      "ssr based F test:         F=2.0727  , p=0.1572  , df_denom=43, df_num=1\n",
      "ssr based chi2 test:   chi2=2.2173  , p=0.1365  , df=1\n",
      "likelihood ratio test: chi2=2.1656  , p=0.1411  , df=1\n",
      "parameter F test:         F=2.0727  , p=0.1572  , df_denom=43, df_num=1\n",
      "\n",
      "Granger Causality\n",
      "number of lags (no zero) 2\n",
      "ssr based F test:         F=1.2422  , p=0.2996  , df_denom=40, df_num=2\n",
      "ssr based chi2 test:   chi2=2.7950  , p=0.2472  , df=2\n",
      "likelihood ratio test: chi2=2.7117  , p=0.2577  , df=2\n",
      "parameter F test:         F=1.2422  , p=0.2996  , df_denom=40, df_num=2\n"
     ]
    },
    {
     "data": {
      "text/plain": [
       "{1: ({'ssr_ftest': (2.072727885616631, 0.1571940552627022, 43.0, 1),\n",
       "   'ssr_chi2test': (2.2173368078689544, 0.1364682874795096, 1),\n",
       "   'lrtest': (2.1655532565195017, 0.14113381918087178, 1),\n",
       "   'params_ftest': (2.0727278856166316, 0.1571940552627022, 43.0, 1.0)},\n",
       "  [<statsmodels.regression.linear_model.RegressionResultsWrapper at 0x7fbb421d4430>,\n",
       "   <statsmodels.regression.linear_model.RegressionResultsWrapper at 0x7fbb421d4f10>,\n",
       "   array([[0., 1., 0.]])]),\n",
       " 2: ({'ssr_ftest': (1.2422401423402096, 0.2996357504854991, 40.0, 2),\n",
       "   'ssr_chi2test': (2.7950403202654717, 0.24720924378814854, 2),\n",
       "   'lrtest': (2.711672340907114, 0.25773169669642837, 2),\n",
       "   'params_ftest': (1.2422401423402116, 0.29963575048549773, 40.0, 2.0)},\n",
       "  [<statsmodels.regression.linear_model.RegressionResultsWrapper at 0x7fbb421d2d30>,\n",
       "   <statsmodels.regression.linear_model.RegressionResultsWrapper at 0x7fbb421d2ac0>,\n",
       "   array([[0., 0., 1., 0., 0.],\n",
       "          [0., 0., 0., 1., 0.]])])}"
      ]
     },
     "execution_count": 150,
     "metadata": {},
     "output_type": "execute_result"
    }
   ],
   "source": [
    "from statsmodels.tsa.stattools import grangercausalitytests\n",
    "grangercausalitytests(CAPM_senti_ret[['mean_SH', 'senti score']], maxlag=2)"
   ]
  },
  {
   "cell_type": "code",
   "execution_count": 154,
   "metadata": {
    "scrolled": false
   },
   "outputs": [
    {
     "name": "stdout",
     "output_type": "stream",
     "text": [
      "                            OLS Regression Results                            \n",
      "==============================================================================\n",
      "Dep. Variable:                mean_SL   R-squared:                       0.927\n",
      "Model:                            OLS   Adj. R-squared:                  0.924\n",
      "Method:                 Least Squares   F-statistic:                     280.6\n",
      "Date:                Sun, 04 Sep 2022   Prob (F-statistic):           9.02e-26\n",
      "Time:                        20:30:09   Log-Likelihood:                 187.41\n",
      "No. Observations:                  47   AIC:                            -368.8\n",
      "Df Residuals:                      44   BIC:                            -363.3\n",
      "Df Model:                           2                                         \n",
      "Covariance Type:            nonrobust                                         \n",
      "===============================================================================\n",
      "                  coef    std err          t      P>|t|      [0.025      0.975]\n",
      "-------------------------------------------------------------------------------\n",
      "const           0.0215      0.008      2.727      0.009       0.006       0.037\n",
      "mktrf           1.0020      0.044     22.766      0.000       0.913       1.091\n",
      "senti score    -0.0485      0.019     -2.509      0.016      -0.088      -0.010\n",
      "==============================================================================\n",
      "Omnibus:                        1.873   Durbin-Watson:                   2.037\n",
      "Prob(Omnibus):                  0.392   Jarque-Bera (JB):                1.635\n",
      "Skew:                           0.448   Prob(JB):                        0.442\n",
      "Kurtosis:                       2.822   Cond. No.                         71.6\n",
      "==============================================================================\n",
      "\n",
      "Warnings:\n",
      "[1] Standard Errors assume that the covariance matrix of the errors is correctly specified.\n"
     ]
    }
   ],
   "source": [
    "X = CAPM_senti_ret[['mktrf', 'senti score']]\n",
    "y = CAPM_senti_ret['mean_SL']\n",
    "X = sm.add_constant(X)\n",
    "CAPM_Senti_model = sm.OLS(y, X).fit()\n",
    "print(CAPM_Senti_model.summary())\n",
    "intercept, b1, b2 = CAPM_Senti_model.params"
   ]
  },
  {
   "cell_type": "code",
   "execution_count": 155,
   "metadata": {},
   "outputs": [
    {
     "name": "stdout",
     "output_type": "stream",
     "text": [
      "                            OLS Regression Results                            \n",
      "==============================================================================\n",
      "Dep. Variable:                mean_SM   R-squared:                       0.844\n",
      "Model:                            OLS   Adj. R-squared:                  0.837\n",
      "Method:                 Least Squares   F-statistic:                     118.7\n",
      "Date:                Sun, 04 Sep 2022   Prob (F-statistic):           1.86e-18\n",
      "Time:                        20:30:24   Log-Likelihood:                 159.49\n",
      "No. Observations:                  47   AIC:                            -313.0\n",
      "Df Residuals:                      44   BIC:                            -307.4\n",
      "Df Model:                           2                                         \n",
      "Covariance Type:            nonrobust                                         \n",
      "===============================================================================\n",
      "                  coef    std err          t      P>|t|      [0.025      0.975]\n",
      "-------------------------------------------------------------------------------\n",
      "const           0.0252      0.014      1.768      0.084      -0.004       0.054\n",
      "mktrf           1.1844      0.080     14.858      0.000       1.024       1.345\n",
      "senti score    -0.0635      0.035     -1.811      0.077      -0.134       0.007\n",
      "==============================================================================\n",
      "Omnibus:                       10.122   Durbin-Watson:                   1.511\n",
      "Prob(Omnibus):                  0.006   Jarque-Bera (JB):                9.848\n",
      "Skew:                           0.898   Prob(JB):                      0.00727\n",
      "Kurtosis:                       4.342   Cond. No.                         71.6\n",
      "==============================================================================\n",
      "\n",
      "Warnings:\n",
      "[1] Standard Errors assume that the covariance matrix of the errors is correctly specified.\n"
     ]
    }
   ],
   "source": [
    "X = CAPM_senti_ret[['mktrf', 'senti score']]\n",
    "y = CAPM_senti_ret['mean_SM']\n",
    "X = sm.add_constant(X)\n",
    "CAPM_Senti_model = sm.OLS(y, X).fit()\n",
    "print(CAPM_Senti_model.summary())\n",
    "intercept, b1, b2 = CAPM_Senti_model.params"
   ]
  },
  {
   "cell_type": "code",
   "execution_count": 114,
   "metadata": {},
   "outputs": [
    {
     "name": "stdout",
     "output_type": "stream",
     "text": [
      "                            OLS Regression Results                            \n",
      "==============================================================================\n",
      "Dep. Variable:                mean_SH   R-squared:                       0.712\n",
      "Model:                            OLS   Adj. R-squared:                  0.699\n",
      "Method:                 Least Squares   F-statistic:                     54.32\n",
      "Date:                Sat, 03 Sep 2022   Prob (F-statistic):           1.30e-12\n",
      "Time:                        11:46:09   Log-Likelihood:                 132.70\n",
      "No. Observations:                  47   AIC:                            -259.4\n",
      "Df Residuals:                      44   BIC:                            -253.8\n",
      "Df Model:                           2                                         \n",
      "Covariance Type:            nonrobust                                         \n",
      "===============================================================================\n",
      "                  coef    std err          t      P>|t|      [0.025      0.975]\n",
      "-------------------------------------------------------------------------------\n",
      "const           0.0179      0.025      0.710      0.482      -0.033       0.069\n",
      "mktrf           1.4002      0.141      9.934      0.000       1.116       1.684\n",
      "senti score    -0.0506      0.062     -0.817      0.418      -0.175       0.074\n",
      "==============================================================================\n",
      "Omnibus:                        1.588   Durbin-Watson:                   1.548\n",
      "Prob(Omnibus):                  0.452   Jarque-Bera (JB):                1.457\n",
      "Skew:                           0.412   Prob(JB):                        0.483\n",
      "Kurtosis:                       2.748   Cond. No.                         71.6\n",
      "==============================================================================\n",
      "\n",
      "Warnings:\n",
      "[1] Standard Errors assume that the covariance matrix of the errors is correctly specified.\n"
     ]
    }
   ],
   "source": [
    "X = CAPM_senti_ret[['mktrf', 'senti score']]\n",
    "y = CAPM_senti_ret['mean_SH']\n",
    "X = sm.add_constant(X)\n",
    "CAPM_Senti_model = sm.OLS(y, X).fit()\n",
    "print(CAPM_Senti_model.summary())\n",
    "intercept, b1, b2 = CAPM_Senti_model.params"
   ]
  },
  {
   "cell_type": "code",
   "execution_count": 115,
   "metadata": {},
   "outputs": [
    {
     "name": "stdout",
     "output_type": "stream",
     "text": [
      "                            OLS Regression Results                            \n",
      "==============================================================================\n",
      "Dep. Variable:                mean_BL   R-squared:                       0.981\n",
      "Model:                            OLS   Adj. R-squared:                  0.981\n",
      "Method:                 Least Squares   F-statistic:                     1163.\n",
      "Date:                Sat, 03 Sep 2022   Prob (F-statistic):           8.13e-39\n",
      "Time:                        11:46:10   Log-Likelihood:                 216.90\n",
      "No. Observations:                  47   AIC:                            -427.8\n",
      "Df Residuals:                      44   BIC:                            -422.2\n",
      "Df Model:                           2                                         \n",
      "Covariance Type:            nonrobust                                         \n",
      "===============================================================================\n",
      "                  coef    std err          t      P>|t|      [0.025      0.975]\n",
      "-------------------------------------------------------------------------------\n",
      "const           0.0063      0.004      1.510      0.138      -0.002       0.015\n",
      "mktrf           1.0608      0.023     45.142      0.000       1.013       1.108\n",
      "senti score    -0.0130      0.010     -1.260      0.214      -0.034       0.008\n",
      "==============================================================================\n",
      "Omnibus:                        1.582   Durbin-Watson:                   1.836\n",
      "Prob(Omnibus):                  0.453   Jarque-Bera (JB):                1.458\n",
      "Skew:                           0.309   Prob(JB):                        0.482\n",
      "Kurtosis:                       2.398   Cond. No.                         71.6\n",
      "==============================================================================\n",
      "\n",
      "Warnings:\n",
      "[1] Standard Errors assume that the covariance matrix of the errors is correctly specified.\n"
     ]
    }
   ],
   "source": [
    "X = CAPM_senti_ret[['mktrf', 'senti score']]\n",
    "y = CAPM_senti_ret['mean_BL']\n",
    "X = sm.add_constant(X)\n",
    "CAPM_Senti_model = sm.OLS(y, X).fit()\n",
    "print(CAPM_Senti_model.summary())\n",
    "intercept, b1, b2 = CAPM_Senti_model.params"
   ]
  },
  {
   "cell_type": "code",
   "execution_count": 116,
   "metadata": {},
   "outputs": [
    {
     "name": "stdout",
     "output_type": "stream",
     "text": [
      "                            OLS Regression Results                            \n",
      "==============================================================================\n",
      "Dep. Variable:                mean_BM   R-squared:                       0.957\n",
      "Model:                            OLS   Adj. R-squared:                  0.955\n",
      "Method:                 Least Squares   F-statistic:                     484.1\n",
      "Date:                Sat, 03 Sep 2022   Prob (F-statistic):           1.10e-30\n",
      "Time:                        11:46:10   Log-Likelihood:                 194.49\n",
      "No. Observations:                  47   AIC:                            -383.0\n",
      "Df Residuals:                      44   BIC:                            -377.4\n",
      "Df Model:                           2                                         \n",
      "Covariance Type:            nonrobust                                         \n",
      "===============================================================================\n",
      "                  coef    std err          t      P>|t|      [0.025      0.975]\n",
      "-------------------------------------------------------------------------------\n",
      "const           0.0184      0.007      2.713      0.009       0.005       0.032\n",
      "mktrf           1.1257      0.038     29.736      0.000       1.049       1.202\n",
      "senti score    -0.0451      0.017     -2.710      0.010      -0.079      -0.012\n",
      "==============================================================================\n",
      "Omnibus:                        3.459   Durbin-Watson:                   1.887\n",
      "Prob(Omnibus):                  0.177   Jarque-Bera (JB):                2.692\n",
      "Skew:                           0.581   Prob(JB):                        0.260\n",
      "Kurtosis:                       3.158   Cond. No.                         71.6\n",
      "==============================================================================\n",
      "\n",
      "Warnings:\n",
      "[1] Standard Errors assume that the covariance matrix of the errors is correctly specified.\n"
     ]
    }
   ],
   "source": [
    "X = CAPM_senti_ret[['mktrf', 'senti score']]\n",
    "y = CAPM_senti_ret['mean_BM']\n",
    "X = sm.add_constant(X)\n",
    "CAPM_Senti_model = sm.OLS(y, X).fit()\n",
    "print(CAPM_Senti_model.summary())\n",
    "intercept, b1, b2 = CAPM_Senti_model.params"
   ]
  },
  {
   "cell_type": "code",
   "execution_count": 117,
   "metadata": {},
   "outputs": [
    {
     "name": "stdout",
     "output_type": "stream",
     "text": [
      "                            OLS Regression Results                            \n",
      "==============================================================================\n",
      "Dep. Variable:                mean_BH   R-squared:                       0.763\n",
      "Model:                            OLS   Adj. R-squared:                  0.752\n",
      "Method:                 Least Squares   F-statistic:                     70.67\n",
      "Date:                Sat, 03 Sep 2022   Prob (F-statistic):           1.82e-14\n",
      "Time:                        11:46:10   Log-Likelihood:                 135.32\n",
      "No. Observations:                  47   AIC:                            -264.6\n",
      "Df Residuals:                      44   BIC:                            -259.1\n",
      "Df Model:                           2                                         \n",
      "Covariance Type:            nonrobust                                         \n",
      "===============================================================================\n",
      "                  coef    std err          t      P>|t|      [0.025      0.975]\n",
      "-------------------------------------------------------------------------------\n",
      "const           0.0154      0.024      0.645      0.522      -0.033       0.063\n",
      "mktrf           1.5031      0.133     11.276      0.000       1.234       1.772\n",
      "senti score    -0.0443      0.059     -0.756      0.454      -0.162       0.074\n",
      "==============================================================================\n",
      "Omnibus:                        1.922   Durbin-Watson:                   1.640\n",
      "Prob(Omnibus):                  0.383   Jarque-Bera (JB):                1.662\n",
      "Skew:                           0.453   Prob(JB):                        0.436\n",
      "Kurtosis:                       2.836   Cond. No.                         71.6\n",
      "==============================================================================\n",
      "\n",
      "Warnings:\n",
      "[1] Standard Errors assume that the covariance matrix of the errors is correctly specified.\n"
     ]
    }
   ],
   "source": [
    "X = CAPM_senti_ret[['mktrf', 'senti score']]\n",
    "y = CAPM_senti_ret['mean_BH']\n",
    "X = sm.add_constant(X)\n",
    "CAPM_Senti_model = sm.OLS(y, X).fit()\n",
    "print(CAPM_Senti_model.summary())\n",
    "intercept, b1, b2 = CAPM_Senti_model.params"
   ]
  },
  {
   "cell_type": "markdown",
   "metadata": {},
   "source": [
    "### FF3"
   ]
  },
  {
   "cell_type": "markdown",
   "metadata": {},
   "source": [
    "将Fama-French三因子模型与六个投资组合拟合。"
   ]
  },
  {
   "cell_type": "code",
   "execution_count": 118,
   "metadata": {},
   "outputs": [],
   "source": [
    "import statsmodels.api as sm"
   ]
  },
  {
   "cell_type": "code",
   "execution_count": 119,
   "metadata": {},
   "outputs": [
    {
     "data": {
      "text/html": [
       "<div>\n",
       "<style scoped>\n",
       "    .dataframe tbody tr th:only-of-type {\n",
       "        vertical-align: middle;\n",
       "    }\n",
       "\n",
       "    .dataframe tbody tr th {\n",
       "        vertical-align: top;\n",
       "    }\n",
       "\n",
       "    .dataframe thead th {\n",
       "        text-align: right;\n",
       "    }\n",
       "</style>\n",
       "<table border=\"1\" class=\"dataframe\">\n",
       "  <thead>\n",
       "    <tr style=\"text-align: right;\">\n",
       "      <th></th>\n",
       "      <th>mktrf</th>\n",
       "      <th>smb</th>\n",
       "      <th>hml</th>\n",
       "      <th>mean_SL</th>\n",
       "      <th>mean_SM</th>\n",
       "      <th>mean_SH</th>\n",
       "      <th>mean_BL</th>\n",
       "      <th>mean_BM</th>\n",
       "      <th>mean_BH</th>\n",
       "    </tr>\n",
       "    <tr>\n",
       "      <th>Date</th>\n",
       "      <th></th>\n",
       "      <th></th>\n",
       "      <th></th>\n",
       "      <th></th>\n",
       "      <th></th>\n",
       "      <th></th>\n",
       "      <th></th>\n",
       "      <th></th>\n",
       "      <th></th>\n",
       "    </tr>\n",
       "  </thead>\n",
       "  <tbody>\n",
       "    <tr>\n",
       "      <th>2020-04-14</th>\n",
       "      <td>0.030466</td>\n",
       "      <td>-0.001960</td>\n",
       "      <td>-0.009671</td>\n",
       "      <td>0.032211</td>\n",
       "      <td>0.022734</td>\n",
       "      <td>0.013777</td>\n",
       "      <td>0.038324</td>\n",
       "      <td>0.026030</td>\n",
       "      <td>0.019139</td>\n",
       "    </tr>\n",
       "    <tr>\n",
       "      <th>2020-04-15</th>\n",
       "      <td>-0.022137</td>\n",
       "      <td>-0.003307</td>\n",
       "      <td>-0.012910</td>\n",
       "      <td>-0.021899</td>\n",
       "      <td>-0.039120</td>\n",
       "      <td>-0.050773</td>\n",
       "      <td>-0.019157</td>\n",
       "      <td>-0.026791</td>\n",
       "      <td>-0.041301</td>\n",
       "    </tr>\n",
       "    <tr>\n",
       "      <th>2020-04-16</th>\n",
       "      <td>0.005710</td>\n",
       "      <td>-0.000500</td>\n",
       "      <td>-0.013565</td>\n",
       "      <td>0.012285</td>\n",
       "      <td>-0.005593</td>\n",
       "      <td>-0.019885</td>\n",
       "      <td>0.004569</td>\n",
       "      <td>-0.000086</td>\n",
       "      <td>-0.018704</td>\n",
       "    </tr>\n",
       "    <tr>\n",
       "      <th>2020-04-17</th>\n",
       "      <td>0.026687</td>\n",
       "      <td>0.000360</td>\n",
       "      <td>0.012440</td>\n",
       "      <td>0.028025</td>\n",
       "      <td>0.045585</td>\n",
       "      <td>0.052714</td>\n",
       "      <td>0.031365</td>\n",
       "      <td>0.040643</td>\n",
       "      <td>0.057045</td>\n",
       "    </tr>\n",
       "    <tr>\n",
       "      <th>2020-04-20</th>\n",
       "      <td>-0.017987</td>\n",
       "      <td>0.000193</td>\n",
       "      <td>-0.005143</td>\n",
       "      <td>-0.014028</td>\n",
       "      <td>-0.023158</td>\n",
       "      <td>-0.023357</td>\n",
       "      <td>-0.017314</td>\n",
       "      <td>-0.019220</td>\n",
       "      <td>-0.029190</td>\n",
       "    </tr>\n",
       "  </tbody>\n",
       "</table>\n",
       "</div>"
      ],
      "text/plain": [
       "               mktrf       smb       hml   mean_SL   mean_SM   mean_SH  \\\n",
       "Date                                                                     \n",
       "2020-04-14  0.030466 -0.001960 -0.009671  0.032211  0.022734  0.013777   \n",
       "2020-04-15 -0.022137 -0.003307 -0.012910 -0.021899 -0.039120 -0.050773   \n",
       "2020-04-16  0.005710 -0.000500 -0.013565  0.012285 -0.005593 -0.019885   \n",
       "2020-04-17  0.026687  0.000360  0.012440  0.028025  0.045585  0.052714   \n",
       "2020-04-20 -0.017987  0.000193 -0.005143 -0.014028 -0.023158 -0.023357   \n",
       "\n",
       "             mean_BL   mean_BM   mean_BH  \n",
       "Date                                      \n",
       "2020-04-14  0.038324  0.026030  0.019139  \n",
       "2020-04-15 -0.019157 -0.026791 -0.041301  \n",
       "2020-04-16  0.004569 -0.000086 -0.018704  \n",
       "2020-04-17  0.031365  0.040643  0.057045  \n",
       "2020-04-20 -0.017314 -0.019220 -0.029190  "
      ]
     },
     "execution_count": 119,
     "metadata": {},
     "output_type": "execute_result"
    }
   ],
   "source": [
    "# Initial setup\n",
    "FF3_ret = pd.concat([FF3, avgret_SL, avgret_SM, avgret_SH, avgret_BL, avgret_BM, avgret_BH], axis=1)\n",
    "FF3_ret = FF3_ret.dropna()\n",
    "FF3_ret.head()"
   ]
  },
  {
   "cell_type": "code",
   "execution_count": 120,
   "metadata": {
    "scrolled": false
   },
   "outputs": [
    {
     "name": "stdout",
     "output_type": "stream",
     "text": [
      "                            OLS Regression Results                            \n",
      "==============================================================================\n",
      "Dep. Variable:                mean_SL   R-squared:                       0.965\n",
      "Model:                            OLS   Adj. R-squared:                  0.963\n",
      "Method:                 Least Squares   F-statistic:                     535.7\n",
      "Date:                Sat, 03 Sep 2022   Prob (F-statistic):           3.16e-42\n",
      "Time:                        11:47:00   Log-Likelihood:                 269.27\n",
      "No. Observations:                  62   AIC:                            -530.5\n",
      "Df Residuals:                      58   BIC:                            -522.0\n",
      "Df Model:                           3                                         \n",
      "Covariance Type:            nonrobust                                         \n",
      "==============================================================================\n",
      "                 coef    std err          t      P>|t|      [0.025      0.975]\n",
      "------------------------------------------------------------------------------\n",
      "const          0.0008      0.000      1.937      0.058   -2.76e-05       0.002\n",
      "mktrf          1.0904      0.030     36.322      0.000       1.030       1.151\n",
      "smb            2.6929      0.358      7.516      0.000       1.976       3.410\n",
      "hml           -0.4739      0.070     -6.804      0.000      -0.613      -0.334\n",
      "==============================================================================\n",
      "Omnibus:                        1.184   Durbin-Watson:                   1.571\n",
      "Prob(Omnibus):                  0.553   Jarque-Bera (JB):                1.040\n",
      "Skew:                          -0.108   Prob(JB):                        0.595\n",
      "Kurtosis:                       2.403   Cond. No.                         873.\n",
      "==============================================================================\n",
      "\n",
      "Warnings:\n",
      "[1] Standard Errors assume that the covariance matrix of the errors is correctly specified.\n"
     ]
    }
   ],
   "source": [
    "X = FF3_ret[['mktrf', 'smb', 'hml']]\n",
    "y = FF3_ret['mean_SL']\n",
    "X = sm.add_constant(X)\n",
    "FF3_model = sm.OLS(y, X).fit()\n",
    "print(FF3_model.summary())\n",
    "intercept, b1, b2, b3 = FF3_model.params"
   ]
  },
  {
   "cell_type": "code",
   "execution_count": 121,
   "metadata": {},
   "outputs": [
    {
     "name": "stdout",
     "output_type": "stream",
     "text": [
      "                            OLS Regression Results                            \n",
      "==============================================================================\n",
      "Dep. Variable:                mean_SM   R-squared:                       0.977\n",
      "Model:                            OLS   Adj. R-squared:                  0.976\n",
      "Method:                 Least Squares   F-statistic:                     834.5\n",
      "Date:                Sat, 03 Sep 2022   Prob (F-statistic):           1.19e-47\n",
      "Time:                        11:47:00   Log-Likelihood:                 266.05\n",
      "No. Observations:                  62   AIC:                            -524.1\n",
      "Df Residuals:                      58   BIC:                            -515.6\n",
      "Df Model:                           3                                         \n",
      "Covariance Type:            nonrobust                                         \n",
      "==============================================================================\n",
      "                 coef    std err          t      P>|t|      [0.025      0.975]\n",
      "------------------------------------------------------------------------------\n",
      "const          0.0010      0.000      2.138      0.037    6.12e-05       0.002\n",
      "mktrf          1.0579      0.032     33.456      0.000       0.995       1.121\n",
      "smb            3.6883      0.377      9.774      0.000       2.933       4.444\n",
      "hml            0.5775      0.073      7.873      0.000       0.431       0.724\n",
      "==============================================================================\n",
      "Omnibus:                        1.126   Durbin-Watson:                   1.842\n",
      "Prob(Omnibus):                  0.570   Jarque-Bera (JB):                0.793\n",
      "Skew:                           0.276   Prob(JB):                        0.673\n",
      "Kurtosis:                       3.034   Cond. No.                         873.\n",
      "==============================================================================\n",
      "\n",
      "Warnings:\n",
      "[1] Standard Errors assume that the covariance matrix of the errors is correctly specified.\n"
     ]
    }
   ],
   "source": [
    "X = FF3_ret[['mktrf', 'smb', 'hml']]\n",
    "y = FF3_ret['mean_SM']\n",
    "X = sm.add_constant(X)\n",
    "FF3_model = sm.OLS(y, X).fit()\n",
    "print(FF3_model.summary())\n",
    "intercept, b1, b2, b3 = FF3_model.params"
   ]
  },
  {
   "cell_type": "code",
   "execution_count": 122,
   "metadata": {},
   "outputs": [
    {
     "name": "stdout",
     "output_type": "stream",
     "text": [
      "                            OLS Regression Results                            \n",
      "==============================================================================\n",
      "Dep. Variable:                mean_SH   R-squared:                       0.994\n",
      "Model:                            OLS   Adj. R-squared:                  0.994\n",
      "Method:                 Least Squares   F-statistic:                     3234.\n",
      "Date:                Sat, 03 Sep 2022   Prob (F-statistic):           1.71e-64\n",
      "Time:                        11:47:00   Log-Likelihood:                 290.99\n",
      "No. Observations:                  62   AIC:                            -574.0\n",
      "Df Residuals:                      58   BIC:                            -565.5\n",
      "Df Model:                           3                                         \n",
      "Covariance Type:            nonrobust                                         \n",
      "==============================================================================\n",
      "                 coef    std err          t      P>|t|      [0.025      0.975]\n",
      "------------------------------------------------------------------------------\n",
      "const          0.0007      0.000      2.218      0.030     6.5e-05       0.001\n",
      "mktrf          1.0496      0.021     49.623      0.000       1.007       1.092\n",
      "smb            2.8452      0.252     11.272      0.000       2.340       3.350\n",
      "hml            1.6913      0.049     34.470      0.000       1.593       1.790\n",
      "==============================================================================\n",
      "Omnibus:                        0.023   Durbin-Watson:                   1.713\n",
      "Prob(Omnibus):                  0.989   Jarque-Bera (JB):                0.132\n",
      "Skew:                           0.042   Prob(JB):                        0.936\n",
      "Kurtosis:                       2.790   Cond. No.                         873.\n",
      "==============================================================================\n",
      "\n",
      "Warnings:\n",
      "[1] Standard Errors assume that the covariance matrix of the errors is correctly specified.\n"
     ]
    }
   ],
   "source": [
    "X = FF3_ret[['mktrf', 'smb', 'hml']]\n",
    "y = FF3_ret['mean_SH']\n",
    "X = sm.add_constant(X)\n",
    "FF3_model = sm.OLS(y, X).fit()\n",
    "print(FF3_model.summary())\n",
    "intercept, b1, b2, b3 = FF3_model.params"
   ]
  },
  {
   "cell_type": "code",
   "execution_count": 123,
   "metadata": {},
   "outputs": [
    {
     "name": "stdout",
     "output_type": "stream",
     "text": [
      "                            OLS Regression Results                            \n",
      "==============================================================================\n",
      "Dep. Variable:                mean_BL   R-squared:                       0.979\n",
      "Model:                            OLS   Adj. R-squared:                  0.978\n",
      "Method:                 Least Squares   F-statistic:                     918.8\n",
      "Date:                Sat, 03 Sep 2022   Prob (F-statistic):           7.80e-49\n",
      "Time:                        11:47:00   Log-Likelihood:                 283.31\n",
      "No. Observations:                  62   AIC:                            -558.6\n",
      "Df Residuals:                      58   BIC:                            -550.1\n",
      "Df Model:                           3                                         \n",
      "Covariance Type:            nonrobust                                         \n",
      "==============================================================================\n",
      "                 coef    std err          t      P>|t|      [0.025      0.975]\n",
      "------------------------------------------------------------------------------\n",
      "const          0.0010      0.000      2.797      0.007       0.000       0.002\n",
      "mktrf          1.0584      0.024     44.216      0.000       1.011       1.106\n",
      "smb            0.1605      0.286      0.562      0.576      -0.411       0.732\n",
      "hml           -0.0269      0.056     -0.485      0.630      -0.138       0.084\n",
      "==============================================================================\n",
      "Omnibus:                        4.668   Durbin-Watson:                   1.884\n",
      "Prob(Omnibus):                  0.097   Jarque-Bera (JB):                2.393\n",
      "Skew:                           0.207   Prob(JB):                        0.302\n",
      "Kurtosis:                       2.131   Cond. No.                         873.\n",
      "==============================================================================\n",
      "\n",
      "Warnings:\n",
      "[1] Standard Errors assume that the covariance matrix of the errors is correctly specified.\n"
     ]
    }
   ],
   "source": [
    "X = FF3_ret[['mktrf', 'smb', 'hml']]\n",
    "y = FF3_ret['mean_BL']\n",
    "X = sm.add_constant(X)\n",
    "FF3_model = sm.OLS(y, X).fit()\n",
    "print(FF3_model.summary())\n",
    "intercept, b1, b2, b3 = FF3_model.params"
   ]
  },
  {
   "cell_type": "code",
   "execution_count": 124,
   "metadata": {},
   "outputs": [
    {
     "name": "stdout",
     "output_type": "stream",
     "text": [
      "                            OLS Regression Results                            \n",
      "==============================================================================\n",
      "Dep. Variable:                mean_BM   R-squared:                       0.974\n",
      "Model:                            OLS   Adj. R-squared:                  0.973\n",
      "Method:                 Least Squares   F-statistic:                     738.3\n",
      "Date:                Sat, 03 Sep 2022   Prob (F-statistic):           3.83e-46\n",
      "Time:                        11:47:00   Log-Likelihood:                 271.75\n",
      "No. Observations:                  62   AIC:                            -535.5\n",
      "Df Residuals:                      58   BIC:                            -527.0\n",
      "Df Model:                           3                                         \n",
      "Covariance Type:            nonrobust                                         \n",
      "==============================================================================\n",
      "                 coef    std err          t      P>|t|      [0.025      0.975]\n",
      "------------------------------------------------------------------------------\n",
      "const          0.0005      0.000      1.160      0.251      -0.000       0.001\n",
      "mktrf          1.0432      0.029     36.167      0.000       0.985       1.101\n",
      "smb            0.7144      0.344      2.075      0.042       0.025       1.403\n",
      "hml            0.3022      0.067      4.516      0.000       0.168       0.436\n",
      "==============================================================================\n",
      "Omnibus:                        1.406   Durbin-Watson:                   1.935\n",
      "Prob(Omnibus):                  0.495   Jarque-Bera (JB):                0.731\n",
      "Skew:                           0.178   Prob(JB):                        0.694\n",
      "Kurtosis:                       3.395   Cond. No.                         873.\n",
      "==============================================================================\n",
      "\n",
      "Warnings:\n",
      "[1] Standard Errors assume that the covariance matrix of the errors is correctly specified.\n"
     ]
    }
   ],
   "source": [
    "X = FF3_ret[['mktrf', 'smb', 'hml']]\n",
    "y = FF3_ret['mean_BM']\n",
    "X = sm.add_constant(X)\n",
    "FF3_model = sm.OLS(y, X).fit()\n",
    "print(FF3_model.summary())\n",
    "intercept, b1, b2, b3 = FF3_model.params"
   ]
  },
  {
   "cell_type": "code",
   "execution_count": 125,
   "metadata": {},
   "outputs": [
    {
     "name": "stdout",
     "output_type": "stream",
     "text": [
      "                            OLS Regression Results                            \n",
      "==============================================================================\n",
      "Dep. Variable:                mean_BH   R-squared:                       0.986\n",
      "Model:                            OLS   Adj. R-squared:                  0.985\n",
      "Method:                 Least Squares   F-statistic:                     1356.\n",
      "Date:                Sat, 03 Sep 2022   Prob (F-statistic):           1.20e-53\n",
      "Time:                        11:47:00   Log-Likelihood:                 263.47\n",
      "No. Observations:                  62   AIC:                            -518.9\n",
      "Df Residuals:                      58   BIC:                            -510.4\n",
      "Df Model:                           3                                         \n",
      "Covariance Type:            nonrobust                                         \n",
      "==============================================================================\n",
      "                 coef    std err          t      P>|t|      [0.025      0.975]\n",
      "------------------------------------------------------------------------------\n",
      "const          0.0011      0.000      2.439      0.018       0.000       0.002\n",
      "mktrf          1.0949      0.033     33.213      0.000       1.029       1.161\n",
      "smb           -0.4547      0.393     -1.156      0.253      -1.242       0.333\n",
      "hml            1.8818      0.076     24.607      0.000       1.729       2.035\n",
      "==============================================================================\n",
      "Omnibus:                        1.064   Durbin-Watson:                   1.586\n",
      "Prob(Omnibus):                  0.587   Jarque-Bera (JB):                1.120\n",
      "Skew:                           0.235   Prob(JB):                        0.571\n",
      "Kurtosis:                       2.539   Cond. No.                         873.\n",
      "==============================================================================\n",
      "\n",
      "Warnings:\n",
      "[1] Standard Errors assume that the covariance matrix of the errors is correctly specified.\n"
     ]
    }
   ],
   "source": [
    "X = FF3_ret[['mktrf', 'smb', 'hml']]\n",
    "y = FF3_ret['mean_BH']\n",
    "X = sm.add_constant(X)\n",
    "FF3_model = sm.OLS(y, X).fit()\n",
    "print(FF3_model.summary())\n",
    "intercept, b1, b2, b3 = FF3_model.params"
   ]
  },
  {
   "cell_type": "markdown",
   "metadata": {},
   "source": [
    "### FF3_Senti"
   ]
  },
  {
   "cell_type": "code",
   "execution_count": 126,
   "metadata": {},
   "outputs": [],
   "source": [
    "%store -r tweets_senti"
   ]
  },
  {
   "cell_type": "code",
   "execution_count": 127,
   "metadata": {},
   "outputs": [
    {
     "data": {
      "text/html": [
       "<div>\n",
       "<style scoped>\n",
       "    .dataframe tbody tr th:only-of-type {\n",
       "        vertical-align: middle;\n",
       "    }\n",
       "\n",
       "    .dataframe tbody tr th {\n",
       "        vertical-align: top;\n",
       "    }\n",
       "\n",
       "    .dataframe thead th {\n",
       "        text-align: right;\n",
       "    }\n",
       "</style>\n",
       "<table border=\"1\" class=\"dataframe\">\n",
       "  <thead>\n",
       "    <tr style=\"text-align: right;\">\n",
       "      <th></th>\n",
       "      <th>senti score</th>\n",
       "    </tr>\n",
       "    <tr>\n",
       "      <th>date</th>\n",
       "      <th></th>\n",
       "    </tr>\n",
       "  </thead>\n",
       "  <tbody>\n",
       "    <tr>\n",
       "      <th>2020-04-09</th>\n",
       "      <td>0.357220</td>\n",
       "    </tr>\n",
       "    <tr>\n",
       "      <th>2020-04-10</th>\n",
       "      <td>0.356228</td>\n",
       "    </tr>\n",
       "    <tr>\n",
       "      <th>2020-04-11</th>\n",
       "      <td>0.453090</td>\n",
       "    </tr>\n",
       "    <tr>\n",
       "      <th>2020-04-12</th>\n",
       "      <td>0.409756</td>\n",
       "    </tr>\n",
       "    <tr>\n",
       "      <th>2020-04-13</th>\n",
       "      <td>0.434693</td>\n",
       "    </tr>\n",
       "  </tbody>\n",
       "</table>\n",
       "</div>"
      ],
      "text/plain": [
       "            senti score\n",
       "date                   \n",
       "2020-04-09     0.357220\n",
       "2020-04-10     0.356228\n",
       "2020-04-11     0.453090\n",
       "2020-04-12     0.409756\n",
       "2020-04-13     0.434693"
      ]
     },
     "execution_count": 127,
     "metadata": {},
     "output_type": "execute_result"
    }
   ],
   "source": [
    "# tweets_senti = tweets_senti.set_index('date')\n",
    "tweets_senti.head()"
   ]
  },
  {
   "cell_type": "code",
   "execution_count": null,
   "metadata": {},
   "outputs": [],
   "source": []
  },
  {
   "cell_type": "code",
   "execution_count": 128,
   "metadata": {},
   "outputs": [
    {
     "data": {
      "text/html": [
       "<div>\n",
       "<style scoped>\n",
       "    .dataframe tbody tr th:only-of-type {\n",
       "        vertical-align: middle;\n",
       "    }\n",
       "\n",
       "    .dataframe tbody tr th {\n",
       "        vertical-align: top;\n",
       "    }\n",
       "\n",
       "    .dataframe thead th {\n",
       "        text-align: right;\n",
       "    }\n",
       "</style>\n",
       "<table border=\"1\" class=\"dataframe\">\n",
       "  <thead>\n",
       "    <tr style=\"text-align: right;\">\n",
       "      <th></th>\n",
       "      <th>mktrf</th>\n",
       "      <th>smb</th>\n",
       "      <th>hml</th>\n",
       "      <th>senti score</th>\n",
       "      <th>mean_SL</th>\n",
       "      <th>mean_SM</th>\n",
       "      <th>mean_SH</th>\n",
       "      <th>mean_BL</th>\n",
       "      <th>mean_BM</th>\n",
       "      <th>mean_BH</th>\n",
       "    </tr>\n",
       "  </thead>\n",
       "  <tbody>\n",
       "    <tr>\n",
       "      <th>2020-04-14</th>\n",
       "      <td>0.030466</td>\n",
       "      <td>-0.001960</td>\n",
       "      <td>-0.009671</td>\n",
       "      <td>0.450438</td>\n",
       "      <td>0.032211</td>\n",
       "      <td>0.022734</td>\n",
       "      <td>0.013777</td>\n",
       "      <td>0.038324</td>\n",
       "      <td>0.026030</td>\n",
       "      <td>0.019139</td>\n",
       "    </tr>\n",
       "    <tr>\n",
       "      <th>2020-04-15</th>\n",
       "      <td>-0.022137</td>\n",
       "      <td>-0.003307</td>\n",
       "      <td>-0.012910</td>\n",
       "      <td>0.412081</td>\n",
       "      <td>-0.021899</td>\n",
       "      <td>-0.039120</td>\n",
       "      <td>-0.050773</td>\n",
       "      <td>-0.019157</td>\n",
       "      <td>-0.026791</td>\n",
       "      <td>-0.041301</td>\n",
       "    </tr>\n",
       "    <tr>\n",
       "      <th>2020-04-16</th>\n",
       "      <td>0.005710</td>\n",
       "      <td>-0.000500</td>\n",
       "      <td>-0.013565</td>\n",
       "      <td>0.434884</td>\n",
       "      <td>0.012285</td>\n",
       "      <td>-0.005593</td>\n",
       "      <td>-0.019885</td>\n",
       "      <td>0.004569</td>\n",
       "      <td>-0.000086</td>\n",
       "      <td>-0.018704</td>\n",
       "    </tr>\n",
       "    <tr>\n",
       "      <th>2020-04-17</th>\n",
       "      <td>0.026687</td>\n",
       "      <td>0.000360</td>\n",
       "      <td>0.012440</td>\n",
       "      <td>0.419058</td>\n",
       "      <td>0.028025</td>\n",
       "      <td>0.045585</td>\n",
       "      <td>0.052714</td>\n",
       "      <td>0.031365</td>\n",
       "      <td>0.040643</td>\n",
       "      <td>0.057045</td>\n",
       "    </tr>\n",
       "    <tr>\n",
       "      <th>2020-04-20</th>\n",
       "      <td>-0.017987</td>\n",
       "      <td>0.000193</td>\n",
       "      <td>-0.005143</td>\n",
       "      <td>0.352074</td>\n",
       "      <td>-0.014028</td>\n",
       "      <td>-0.023158</td>\n",
       "      <td>-0.023357</td>\n",
       "      <td>-0.017314</td>\n",
       "      <td>-0.019220</td>\n",
       "      <td>-0.029190</td>\n",
       "    </tr>\n",
       "  </tbody>\n",
       "</table>\n",
       "</div>"
      ],
      "text/plain": [
       "               mktrf       smb       hml  senti score   mean_SL   mean_SM  \\\n",
       "2020-04-14  0.030466 -0.001960 -0.009671     0.450438  0.032211  0.022734   \n",
       "2020-04-15 -0.022137 -0.003307 -0.012910     0.412081 -0.021899 -0.039120   \n",
       "2020-04-16  0.005710 -0.000500 -0.013565     0.434884  0.012285 -0.005593   \n",
       "2020-04-17  0.026687  0.000360  0.012440     0.419058  0.028025  0.045585   \n",
       "2020-04-20 -0.017987  0.000193 -0.005143     0.352074 -0.014028 -0.023158   \n",
       "\n",
       "             mean_SH   mean_BL   mean_BM   mean_BH  \n",
       "2020-04-14  0.013777  0.038324  0.026030  0.019139  \n",
       "2020-04-15 -0.050773 -0.019157 -0.026791 -0.041301  \n",
       "2020-04-16 -0.019885  0.004569 -0.000086 -0.018704  \n",
       "2020-04-17  0.052714  0.031365  0.040643  0.057045  \n",
       "2020-04-20 -0.023357 -0.017314 -0.019220 -0.029190  "
      ]
     },
     "execution_count": 128,
     "metadata": {},
     "output_type": "execute_result"
    }
   ],
   "source": [
    "# Initial setup\n",
    "FF3_senti_ret = pd.concat([FF3, tweets_senti, avgret_SL, avgret_SM, avgret_SH, avgret_BL, avgret_BM, avgret_BH], axis=1)\n",
    "FF3_senti_ret = FF3_senti_ret.dropna()\n",
    "FF3_senti_ret.head()"
   ]
  },
  {
   "cell_type": "code",
   "execution_count": 129,
   "metadata": {},
   "outputs": [
    {
     "name": "stdout",
     "output_type": "stream",
     "text": [
      "                            OLS Regression Results                            \n",
      "==============================================================================\n",
      "Dep. Variable:                mean_SL   R-squared:                       0.966\n",
      "Model:                            OLS   Adj. R-squared:                  0.963\n",
      "Method:                 Least Squares   F-statistic:                     299.4\n",
      "Date:                Sat, 03 Sep 2022   Prob (F-statistic):           2.86e-30\n",
      "Time:                        11:47:00   Log-Likelihood:                 205.35\n",
      "No. Observations:                  47   AIC:                            -400.7\n",
      "Df Residuals:                      42   BIC:                            -391.5\n",
      "Df Model:                           4                                         \n",
      "Covariance Type:            nonrobust                                         \n",
      "===============================================================================\n",
      "                  coef    std err          t      P>|t|      [0.025      0.975]\n",
      "-------------------------------------------------------------------------------\n",
      "const           0.0150      0.006      2.668      0.011       0.004       0.026\n",
      "mktrf           1.1056      0.035     31.740      0.000       1.035       1.176\n",
      "smb             2.5319      0.434      5.839      0.000       1.657       3.407\n",
      "hml            -0.4601      0.075     -6.101      0.000      -0.612      -0.308\n",
      "senti score    -0.0344      0.014     -2.490      0.017      -0.062      -0.007\n",
      "==============================================================================\n",
      "Omnibus:                        1.868   Durbin-Watson:                   1.516\n",
      "Prob(Omnibus):                  0.393   Jarque-Bera (JB):                1.241\n",
      "Skew:                           0.090   Prob(JB):                        0.538\n",
      "Kurtosis:                       2.225   Cond. No.                         995.\n",
      "==============================================================================\n",
      "\n",
      "Warnings:\n",
      "[1] Standard Errors assume that the covariance matrix of the errors is correctly specified.\n"
     ]
    }
   ],
   "source": [
    "X = FF3_senti_ret[['mktrf', 'smb', 'hml', 'senti score']]\n",
    "y = FF3_senti_ret['mean_SL']\n",
    "X = sm.add_constant(X)\n",
    "FF3_Senti_model = sm.OLS(y, X).fit()\n",
    "print(FF3_Senti_model.summary())\n",
    "intercept, b1, b2, b3, b4 = FF3_Senti_model.params"
   ]
  },
  {
   "cell_type": "code",
   "execution_count": 130,
   "metadata": {},
   "outputs": [
    {
     "name": "stdout",
     "output_type": "stream",
     "text": [
      "                            OLS Regression Results                            \n",
      "==============================================================================\n",
      "Dep. Variable:                mean_SM   R-squared:                       0.977\n",
      "Model:                            OLS   Adj. R-squared:                  0.975\n",
      "Method:                 Least Squares   F-statistic:                     445.3\n",
      "Date:                Sat, 03 Sep 2022   Prob (F-statistic):           8.79e-34\n",
      "Time:                        11:47:00   Log-Likelihood:                 204.49\n",
      "No. Observations:                  47   AIC:                            -399.0\n",
      "Df Residuals:                      42   BIC:                            -389.7\n",
      "Df Model:                           4                                         \n",
      "Covariance Type:            nonrobust                                         \n",
      "===============================================================================\n",
      "                  coef    std err          t      P>|t|      [0.025      0.975]\n",
      "-------------------------------------------------------------------------------\n",
      "const           0.0134      0.006      2.342      0.024       0.002       0.025\n",
      "mktrf           1.0763      0.035     30.334      0.000       1.005       1.148\n",
      "smb             3.6700      0.442      8.309      0.000       2.779       4.561\n",
      "hml             0.5789      0.077      7.536      0.000       0.424       0.734\n",
      "senti score    -0.0309      0.014     -2.193      0.034      -0.059      -0.002\n",
      "==============================================================================\n",
      "Omnibus:                        3.596   Durbin-Watson:                   1.884\n",
      "Prob(Omnibus):                  0.166   Jarque-Bera (JB):                3.254\n",
      "Skew:                           0.639   Prob(JB):                        0.197\n",
      "Kurtosis:                       2.835   Cond. No.                         995.\n",
      "==============================================================================\n",
      "\n",
      "Warnings:\n",
      "[1] Standard Errors assume that the covariance matrix of the errors is correctly specified.\n"
     ]
    }
   ],
   "source": [
    "X = FF3_senti_ret[['mktrf', 'smb', 'hml', 'senti score']]\n",
    "y = FF3_senti_ret['mean_SM']\n",
    "X = sm.add_constant(X)\n",
    "FF3_Senti_model = sm.OLS(y, X).fit()\n",
    "print(FF3_Senti_model.summary())\n",
    "intercept, b1, b2, b3, b4 = FF3_Senti_model.params"
   ]
  },
  {
   "cell_type": "code",
   "execution_count": 131,
   "metadata": {},
   "outputs": [
    {
     "name": "stdout",
     "output_type": "stream",
     "text": [
      "                            OLS Regression Results                            \n",
      "==============================================================================\n",
      "Dep. Variable:                mean_SH   R-squared:                       0.993\n",
      "Model:                            OLS   Adj. R-squared:                  0.993\n",
      "Method:                 Least Squares   F-statistic:                     1599.\n",
      "Date:                Sat, 03 Sep 2022   Prob (F-statistic):           2.77e-45\n",
      "Time:                        11:47:00   Log-Likelihood:                 221.73\n",
      "No. Observations:                  47   AIC:                            -433.5\n",
      "Df Residuals:                      42   BIC:                            -424.2\n",
      "Df Model:                           4                                         \n",
      "Covariance Type:            nonrobust                                         \n",
      "===============================================================================\n",
      "                  coef    std err          t      P>|t|      [0.025      0.975]\n",
      "-------------------------------------------------------------------------------\n",
      "const           0.0065      0.004      1.644      0.108      -0.001       0.015\n",
      "mktrf           1.0550      0.025     42.916      0.000       1.005       1.105\n",
      "smb             2.7631      0.306      9.029      0.000       2.146       3.381\n",
      "hml             1.7080      0.053     32.089      0.000       1.601       1.815\n",
      "senti score    -0.0137      0.010     -1.404      0.168      -0.033       0.006\n",
      "==============================================================================\n",
      "Omnibus:                        0.980   Durbin-Watson:                   2.074\n",
      "Prob(Omnibus):                  0.613   Jarque-Bera (JB):                0.901\n",
      "Skew:                           0.111   Prob(JB):                        0.637\n",
      "Kurtosis:                       2.359   Cond. No.                         995.\n",
      "==============================================================================\n",
      "\n",
      "Warnings:\n",
      "[1] Standard Errors assume that the covariance matrix of the errors is correctly specified.\n"
     ]
    }
   ],
   "source": [
    "X = FF3_senti_ret[['mktrf', 'smb', 'hml', 'senti score']]\n",
    "y = FF3_senti_ret['mean_SH']\n",
    "X = sm.add_constant(X)\n",
    "FF3_Senti_model = sm.OLS(y, X).fit()\n",
    "print(FF3_Senti_model.summary())\n",
    "intercept, b1, b2, b3, b4 = FF3_Senti_model.params"
   ]
  },
  {
   "cell_type": "code",
   "execution_count": 132,
   "metadata": {},
   "outputs": [
    {
     "name": "stdout",
     "output_type": "stream",
     "text": [
      "                            OLS Regression Results                            \n",
      "==============================================================================\n",
      "Dep. Variable:                mean_BL   R-squared:                       0.982\n",
      "Model:                            OLS   Adj. R-squared:                  0.980\n",
      "Method:                 Least Squares   F-statistic:                     558.1\n",
      "Date:                Sat, 03 Sep 2022   Prob (F-statistic):           8.49e-36\n",
      "Time:                        11:47:00   Log-Likelihood:                 217.02\n",
      "No. Observations:                  47   AIC:                            -424.0\n",
      "Df Residuals:                      42   BIC:                            -414.8\n",
      "Df Model:                           4                                         \n",
      "Covariance Type:            nonrobust                                         \n",
      "===============================================================================\n",
      "                  coef    std err          t      P>|t|      [0.025      0.975]\n",
      "-------------------------------------------------------------------------------\n",
      "const           0.0060      0.004      1.364      0.180      -0.003       0.015\n",
      "mktrf           1.0660      0.027     39.227      0.000       1.011       1.121\n",
      "smb             0.1393      0.338      0.412      0.683      -0.543       0.822\n",
      "hml            -0.0230      0.059     -0.391      0.698      -0.142       0.096\n",
      "senti score    -0.0122      0.011     -1.133      0.264      -0.034       0.010\n",
      "==============================================================================\n",
      "Omnibus:                        1.827   Durbin-Watson:                   1.863\n",
      "Prob(Omnibus):                  0.401   Jarque-Bera (JB):                1.562\n",
      "Skew:                           0.301   Prob(JB):                        0.458\n",
      "Kurtosis:                       2.340   Cond. No.                         995.\n",
      "==============================================================================\n",
      "\n",
      "Warnings:\n",
      "[1] Standard Errors assume that the covariance matrix of the errors is correctly specified.\n"
     ]
    }
   ],
   "source": [
    "X = FF3_senti_ret[['mktrf', 'smb', 'hml', 'senti score']]\n",
    "y = FF3_senti_ret['mean_BL']\n",
    "X = sm.add_constant(X)\n",
    "FF3_Senti_model = sm.OLS(y, X).fit()\n",
    "print(FF3_Senti_model.summary())\n",
    "intercept, b1, b2, b3, b4 = FF3_Senti_model.params"
   ]
  },
  {
   "cell_type": "code",
   "execution_count": 133,
   "metadata": {},
   "outputs": [
    {
     "name": "stdout",
     "output_type": "stream",
     "text": [
      "                            OLS Regression Results                            \n",
      "==============================================================================\n",
      "Dep. Variable:                mean_BM   R-squared:                       0.979\n",
      "Model:                            OLS   Adj. R-squared:                  0.977\n",
      "Method:                 Least Squares   F-statistic:                     482.9\n",
      "Date:                Sat, 03 Sep 2022   Prob (F-statistic):           1.66e-34\n",
      "Time:                        11:47:01   Log-Likelihood:                 211.27\n",
      "No. Observations:                  47   AIC:                            -412.5\n",
      "Df Residuals:                      42   BIC:                            -403.3\n",
      "Df Model:                           4                                         \n",
      "Covariance Type:            nonrobust                                         \n",
      "===============================================================================\n",
      "                  coef    std err          t      P>|t|      [0.025      0.975]\n",
      "-------------------------------------------------------------------------------\n",
      "const           0.0160      0.005      3.227      0.002       0.006       0.026\n",
      "mktrf           1.0603      0.031     34.526      0.000       0.998       1.122\n",
      "smb             0.5927      0.382      1.550      0.129      -0.179       1.364\n",
      "hml             0.3248      0.066      4.885      0.000       0.191       0.459\n",
      "senti score    -0.0376      0.012     -3.083      0.004      -0.062      -0.013\n",
      "==============================================================================\n",
      "Omnibus:                        3.703   Durbin-Watson:                   2.068\n",
      "Prob(Omnibus):                  0.157   Jarque-Bera (JB):                2.585\n",
      "Skew:                           0.501   Prob(JB):                        0.275\n",
      "Kurtosis:                       3.563   Cond. No.                         995.\n",
      "==============================================================================\n",
      "\n",
      "Warnings:\n",
      "[1] Standard Errors assume that the covariance matrix of the errors is correctly specified.\n"
     ]
    }
   ],
   "source": [
    "X = FF3_senti_ret[['mktrf', 'smb', 'hml', 'senti score']]\n",
    "y = FF3_senti_ret['mean_BM']\n",
    "X = sm.add_constant(X)\n",
    "FF3_Senti_model = sm.OLS(y, X).fit()\n",
    "print(FF3_Senti_model.summary())\n",
    "intercept, b1, b2, b3, b4 = FF3_Senti_model.params"
   ]
  },
  {
   "cell_type": "code",
   "execution_count": 134,
   "metadata": {
    "scrolled": false
   },
   "outputs": [
    {
     "name": "stdout",
     "output_type": "stream",
     "text": [
      "                            OLS Regression Results                            \n",
      "==============================================================================\n",
      "Dep. Variable:                mean_BH   R-squared:                       0.985\n",
      "Model:                            OLS   Adj. R-squared:                  0.984\n",
      "Method:                 Least Squares   F-statistic:                     689.4\n",
      "Date:                Sat, 03 Sep 2022   Prob (F-statistic):           1.09e-37\n",
      "Time:                        11:47:01   Log-Likelihood:                 200.22\n",
      "No. Observations:                  47   AIC:                            -390.4\n",
      "Df Residuals:                      42   BIC:                            -381.2\n",
      "Df Model:                           4                                         \n",
      "Covariance Type:            nonrobust                                         \n",
      "===============================================================================\n",
      "                  coef    std err          t      P>|t|      [0.025      0.975]\n",
      "-------------------------------------------------------------------------------\n",
      "const           0.0132      0.006      2.108      0.041       0.001       0.026\n",
      "mktrf           1.1113      0.039     28.604      0.000       1.033       1.190\n",
      "smb            -0.5320      0.484     -1.100      0.278      -1.508       0.444\n",
      "hml             1.8809      0.084     22.359      0.000       1.711       2.051\n",
      "senti score    -0.0299      0.015     -1.938      0.059      -0.061       0.001\n",
      "==============================================================================\n",
      "Omnibus:                        3.422   Durbin-Watson:                   1.395\n",
      "Prob(Omnibus):                  0.181   Jarque-Bera (JB):                3.258\n",
      "Skew:                           0.614   Prob(JB):                        0.196\n",
      "Kurtosis:                       2.606   Cond. No.                         995.\n",
      "==============================================================================\n",
      "\n",
      "Warnings:\n",
      "[1] Standard Errors assume that the covariance matrix of the errors is correctly specified.\n"
     ]
    }
   ],
   "source": [
    "X = FF3_senti_ret[['mktrf', 'smb', 'hml', 'senti score']]\n",
    "y = FF3_senti_ret['mean_BH']\n",
    "X = sm.add_constant(X)\n",
    "FF3_Senti_model = sm.OLS(y, X).fit()\n",
    "print(FF3_Senti_model.summary())\n",
    "intercept, b1, b2, b3, b4 = FF3_Senti_model.params"
   ]
  },
  {
   "cell_type": "code",
   "execution_count": null,
   "metadata": {},
   "outputs": [],
   "source": []
  }
 ],
 "metadata": {
  "kernelspec": {
   "display_name": "Python 3",
   "language": "python",
   "name": "python3"
  },
  "language_info": {
   "codemirror_mode": {
    "name": "ipython",
    "version": 3
   },
   "file_extension": ".py",
   "mimetype": "text/x-python",
   "name": "python",
   "nbconvert_exporter": "python",
   "pygments_lexer": "ipython3",
   "version": "3.8.3"
  },
  "toc": {
   "base_numbering": 1,
   "nav_menu": {},
   "number_sections": false,
   "sideBar": true,
   "skip_h1_title": false,
   "title_cell": "Table of Contents",
   "title_sidebar": "Contents",
   "toc_cell": false,
   "toc_position": {
    "height": "calc(100% - 180px)",
    "left": "10px",
    "top": "150px",
    "width": "256.797px"
   },
   "toc_section_display": true,
   "toc_window_display": true
  }
 },
 "nbformat": 4,
 "nbformat_minor": 5
}
